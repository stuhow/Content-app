{
 "cells": [
  {
   "cell_type": "code",
   "execution_count": 1,
   "id": "c0720a62-1502-4608-b5c9-78d4d513723f",
   "metadata": {},
   "outputs": [],
   "source": [
    "from langchain_community.document_loaders.recursive_url_loader import RecursiveUrlLoader\n",
    "\n",
    "from bs4 import BeautifulSoup as Soup\n",
    "\n",
    "from langchain.chains.combine_documents.stuff import StuffDocumentsChain\n",
    "from langchain.chains.llm import LLMChain\n",
    "from langchain.prompts import PromptTemplate\n",
    "from langchain_openai import ChatOpenAI\n"
   ]
  },
  {
   "cell_type": "code",
   "execution_count": 2,
   "id": "30a91ad9-31ee-44f0-9a00-b69702f79f59",
   "metadata": {},
   "outputs": [],
   "source": [
    "from dotenv import load_dotenv\n",
    "import os\n",
    "\n",
    "# Load the environment variables from the .env file\n",
    "load_dotenv()\n",
    "\n",
    "# Access environment variables\n",
    "api_key = os.getenv(\"OPENAI_KEY\")"
   ]
  },
  {
   "cell_type": "code",
   "execution_count": 3,
   "id": "ce2e8470-e59a-4187-9b52-bea0283cf872",
   "metadata": {},
   "outputs": [],
   "source": [
    "headers = {\n",
    "    \"User-Agent\": \"Mozilla/5.0 (Windows NT 10.0; Win64; x64) AppleWebKit/537.36 (KHTML, like Gecko) Chrome/121.0.0.0 Safari/537.36\",\n",
    "    \"Accept-Language\": \"en-GB,en;q=0.5\",\n",
    "    \"Referer\": \"https://google.com\",\n",
    "    \"DNT\": \"1\"\n",
    "}"
   ]
  },
  {
   "cell_type": "code",
   "execution_count": 4,
   "id": "b2195de4-2856-48e6-9754-b22c98e7923e",
   "metadata": {},
   "outputs": [],
   "source": [
    "url = \"https://parkhoteltokyo.com\"\n",
    "url = \"https://www.nokuhotels.com/kyoto/\""
   ]
  },
  {
   "cell_type": "code",
   "execution_count": 5,
   "id": "11eed4e9-b94e-4234-a795-49bc597c5678",
   "metadata": {},
   "outputs": [
    {
     "name": "stderr",
     "output_type": "stream",
     "text": [
      "/home/stuart/.pyenv/versions/3.10.6/lib/python3.10/html/parser.py:170: XMLParsedAsHTMLWarning: It looks like you're parsing an XML document using an HTML parser. If this really is an HTML document (maybe it's XHTML?), you can ignore or filter this warning. If it's XML, you should know that using an XML parser will be more reliable. To parse this document as XML, make sure you have the lxml package installed, and pass the keyword argument `features=\"xml\"` into the BeautifulSoup constructor.\n",
      "  k = self.parse_starttag(i)\n"
     ]
    }
   ],
   "source": [
    "loader = RecursiveUrlLoader(\n",
    "    url=url, max_depth=2, headers=headers, extractor=lambda x: Soup(x, \"html.parser\").text\n",
    ")\n",
    "docs = loader.load()"
   ]
  },
  {
   "cell_type": "code",
   "execution_count": 6,
   "id": "53c4542f-9a72-4b64-90db-fba74e2fff7a",
   "metadata": {},
   "outputs": [
    {
     "name": "stdout",
     "output_type": "stream",
     "text": [
      "34\n"
     ]
    }
   ],
   "source": [
    "print(len(docs))"
   ]
  },
  {
   "cell_type": "code",
   "execution_count": 10,
   "id": "a54c5974-90ab-4383-8811-01f3c715adc3",
   "metadata": {
    "scrolled": true
   },
   "outputs": [
    {
     "data": {
      "text/plain": [
       "'\\n\\n\\n\\n\\n\\n\\n\\n\\n\\n\\n\\nCONTACT US - Noku Hotels Kyoto\\n\\n\\n\\n\\n\\n\\n\\n'"
      ]
     },
     "execution_count": 10,
     "metadata": {},
     "output_type": "execute_result"
    }
   ],
   "source": [
    "docs[5].page_content[:50]"
   ]
  },
  {
   "cell_type": "code",
   "execution_count": 11,
   "id": "7fad8218-c3dc-479f-8509-97db747a3bee",
   "metadata": {},
   "outputs": [
    {
     "name": "stderr",
     "output_type": "stream",
     "text": [
      "/home/stuart/.pyenv/versions/3.10.6/envs/content_app/lib/python3.10/site-packages/langchain_core/_api/deprecation.py:117: LangChainDeprecationWarning: The function `run` was deprecated in LangChain 0.1.0 and will be removed in 0.2.0. Use invoke instead.\n",
      "  warn_deprecated(\n"
     ]
    },
    {
     "name": "stdout",
     "output_type": "stream",
     "text": [
      "The summary is missing. Please provide the information that needs to be summarized.\n"
     ]
    }
   ],
   "source": [
    "# Define prompt\n",
    "prompt_template = \"\"\"Write a concise summary of the following:\n",
    "\"{text}\"\n",
    "CONCISE SUMMARY:\"\"\"\n",
    "prompt = PromptTemplate.from_template(prompt_template)\n",
    "\n",
    "# Define LLM chain\n",
    "llm = ChatOpenAI(temperature=0, model_name=\"gpt-3.5-turbo-16k\")\n",
    "llm_chain = LLMChain(llm=llm, prompt=prompt)\n",
    "\n",
    "# Define StuffDocumentsChain\n",
    "stuff_chain = StuffDocumentsChain(llm_chain=llm_chain, document_variable_name=\"text\")\n",
    "\n",
    "print(stuff_chain.run(docs[43:44]))"
   ]
  },
  {
   "cell_type": "code",
   "execution_count": 12,
   "id": "9211f1a5-9110-4c5b-85ae-a57dab1fe89c",
   "metadata": {},
   "outputs": [],
   "source": [
    "import tiktoken\n",
    "encoding = tiktoken.encoding_for_model(\"gpt-3.5-turbo\")\n",
    "document_token_lengths = [len(encoding.encode(doc.page_content)) for doc in docs]"
   ]
  },
  {
   "cell_type": "code",
   "execution_count": 13,
   "id": "94ee7646-2c66-4a86-b978-84ced44a1c7c",
   "metadata": {},
   "outputs": [
    {
     "data": {
      "image/png": "[encoded data removed]",
      "text/plain": [
       "<Figure size 640x480 with 1 Axes>"
      ]
     },
     "metadata": {},
     "output_type": "display_data"
    }
   ],
   "source": [
    "import matplotlib.pyplot as plt\n",
    "\n",
    "# Create a histogram\n",
    "plt.hist(document_token_lengths, bins='auto', alpha=0.7, color='blue', edgecolor='black')\n",
    "\n",
    "# Add labels and title\n",
    "plt.xlabel('Values')\n",
    "plt.ylabel('Frequency')\n",
    "plt.title('Histogram of document token length')\n",
    "\n",
    "# Show the plot\n",
    "plt.show()\n"
   ]
  },
  {
   "cell_type": "code",
   "execution_count": 14,
   "id": "d07fa53c-ce4f-4934-95d9-ce65afb7f898",
   "metadata": {},
   "outputs": [
    {
     "data": {
      "text/plain": [
       "7"
      ]
     },
     "execution_count": 14,
     "metadata": {},
     "output_type": "execute_result"
    }
   ],
   "source": [
    "# Count occurrences of values over 3000\n",
    "count_over_2500 = sum(x > 2500 for x in document_token_lengths)\n",
    "count_over_2500"
   ]
  },
  {
   "cell_type": "code",
   "execution_count": 15,
   "id": "976e5a23-5fb5-4fbe-9be6-786c12770c06",
   "metadata": {},
   "outputs": [
    {
     "name": "stdout",
     "output_type": "stream",
     "text": [
      "https://www.nokuhotels.com/kyoto/wp-json/ 56040\n",
      "https://www.nokuhotels.com/kyoto/wp-content/plugins/gravityforms/legacy/css/formsmain.min.css?ver=2.7.17 20441\n",
      "https://www.nokuhotels.com/kyoto/wp-content/plugins/gravityforms/assets/css/dist/gravity-forms-theme-framework.min.css?ver=2.7.17 92799\n",
      "https://www.nokuhotels.com/kyoto/wp-content/plugins/sitepress-multilingual-cms/dist/css/blocks/styles.css?ver=4.6.3 15038\n",
      "https://www.nokuhotels.com/kyoto/wp-content/plugins/gravityforms/assets/css/dist/gravity-forms-theme-foundation.min.css?ver=2.7.17 11423\n",
      "https://www.nokuhotels.com/kyoto/wp-content/themes/noku23/core-lightbrown.min.css?ver=1708313024 39613\n",
      "https://www.nokuhotels.com/kyoto/wp-content/plugins/gravityforms/legacy/css/readyclass.min.css?ver=2.7.17 7744\n"
     ]
    }
   ],
   "source": [
    "for doc in docs:\n",
    "    if len(encoding.encode(doc.page_content)) > 2500:\n",
    "        print(doc.metadata['source'], len(encoding.encode(doc.page_content)))"
   ]
  },
  {
   "cell_type": "code",
   "execution_count": 19,
   "id": "d3731b18-0223-4150-bdc4-2855cf21a854",
   "metadata": {},
   "outputs": [],
   "source": [
    "import re\n",
    "new_docs = []\n",
    "for doc in docs:\n",
    "    if len(encoding.encode(doc.page_content)) < 2500:\n",
    "        new_docs.append(doc)"
   ]
  },
  {
   "cell_type": "code",
   "execution_count": 20,
   "id": "28083ab3-b4be-4421-969d-ddf832ecb466",
   "metadata": {},
   "outputs": [],
   "source": [
    "# Remove 2 or more consecutive \\n with a single \\n in each document\n",
    "for doc in new_docs:\n",
    "    doc.page_content = re.sub(r'\\n{2,}', '\\n', doc.page_content)"
   ]
  },
  {
   "cell_type": "code",
   "execution_count": 21,
   "id": "30bbc054-c4a7-4804-a18d-1641100fdf7c",
   "metadata": {},
   "outputs": [],
   "source": [
    "# Remove 2 or more consecutive \\t with a single \\t in each document\n",
    "for doc in new_docs:\n",
    "    doc.page_content = re.sub(r'\\t{2,}', '\\t', doc.page_content)"
   ]
  },
  {
   "cell_type": "code",
   "execution_count": 22,
   "id": "cf896d60-e45d-4faf-80b5-44cac0f1fb8a",
   "metadata": {},
   "outputs": [],
   "source": [
    "new_document_token_lengths = [len(encoding.encode(doc.page_content)) for doc in new_docs]"
   ]
  },
  {
   "cell_type": "code",
   "execution_count": 23,
   "id": "5dd0f533-ba45-4d01-9961-f47c5e771c0f",
   "metadata": {},
   "outputs": [
    {
     "data": {
      "image/png": "[encoded data removed]",
      "text/plain": [
       "<Figure size 640x480 with 1 Axes>"
      ]
     },
     "metadata": {},
     "output_type": "display_data"
    }
   ],
   "source": [
    "import matplotlib.pyplot as plt\n",
    "\n",
    "# Create a histogram\n",
    "plt.hist(new_document_token_lengths, bins='auto', alpha=0.7, color='blue', edgecolor='black')\n",
    "\n",
    "# Add labels and title\n",
    "plt.xlabel('Values')\n",
    "plt.ylabel('Frequency')\n",
    "plt.title('Histogram of document token length')\n",
    "\n",
    "# Show the plot\n",
    "plt.show()"
   ]
  },
  {
   "cell_type": "code",
   "execution_count": 24,
   "id": "dfc90a9e-00cf-4597-9e78-d7faffafceaa",
   "metadata": {},
   "outputs": [],
   "source": [
    "# Summarisarion"
   ]
  },
  {
   "cell_type": "code",
   "execution_count": 60,
   "id": "f3ea9b76-602f-424c-8450-03f9ffe9a5d5",
   "metadata": {},
   "outputs": [],
   "source": [
    "from langchain.chains import MapReduceDocumentsChain, ReduceDocumentsChain\n",
    "from langchain.text_splitter import CharacterTextSplitter\n",
    "\n",
    "llm = ChatOpenAI(temperature=0, model_name=\"gpt-3.5-turbo\")\n",
    "# llm = ChatOpenAI(temperature=0, model_name=\"gpt-4\")\n",
    "\n",
    "# Map\n",
    "map_template = \"\"\"The following is a set of documents from a hotel website\n",
    "{docs}\n",
    "Based on this list of docs, summaries the docs based on the following categories: Hotel style, Rooms & Suites, Location, Restaurants and facilities.\n",
    "If the document does not contain inforamtion about one or more of of the categories do not make the information up.\n",
    "Helpful Answer:\"\"\"\n",
    "map_prompt = PromptTemplate.from_template(map_template)\n",
    "map_chain = LLMChain(llm=llm, prompt=map_prompt)"
   ]
  },
  {
   "cell_type": "code",
   "execution_count": 61,
   "id": "09e5b019-511b-412e-bb3c-0e21e287952f",
   "metadata": {},
   "outputs": [],
   "source": [
    "# Reduce\n",
    "reduce_template = \"\"\"The following is set of summaries of each webpage from a hotels website:\n",
    "{docs}\n",
    "Take these and distill it into a final summary including each of the main themes: Hotel style, Rooms & Suites, Location, Restaurants and facilities. \n",
    "Helpful Answer:\"\"\"\n",
    "reduce_prompt = PromptTemplate.from_template(reduce_template)"
   ]
  },
  {
   "cell_type": "code",
   "execution_count": 62,
   "id": "a3bde239-2e43-4e90-90d2-7e8809db9604",
   "metadata": {},
   "outputs": [],
   "source": [
    "# Run chain\n",
    "reduce_chain = LLMChain(llm=llm, prompt=reduce_prompt)\n",
    "\n",
    "# Takes a list of documents, combines them into a single string, and passes this to an LLMChain\n",
    "combine_documents_chain = StuffDocumentsChain(\n",
    "    llm_chain=reduce_chain, document_variable_name=\"docs\"\n",
    ")\n",
    "\n",
    "# Combines and iteratively reduces the mapped documents\n",
    "reduce_documents_chain = ReduceDocumentsChain(\n",
    "    # This is final chain that is called.\n",
    "    combine_documents_chain=combine_documents_chain,\n",
    "    # If documents exceed context for `StuffDocumentsChain`\n",
    "    collapse_documents_chain=combine_documents_chain,\n",
    "    # The maximum number of tokens to group documents into.\n",
    "    token_max=4000,\n",
    ")"
   ]
  },
  {
   "cell_type": "code",
   "execution_count": 63,
   "id": "44c53165-87f2-47fb-bfcb-d7e061f5251f",
   "metadata": {},
   "outputs": [],
   "source": [
    "# Combining documents by mapping a chain over them, then combining results\n",
    "map_reduce_chain = MapReduceDocumentsChain(\n",
    "    # Map chain\n",
    "    llm_chain=map_chain,\n",
    "    # Reduce chain\n",
    "    reduce_documents_chain=reduce_documents_chain,\n",
    "    # The variable name in the llm_chain to put the documents in\n",
    "    document_variable_name=\"docs\",\n",
    "    # Return the results of the map steps in the output\n",
    "    return_intermediate_steps=False,\n",
    ")"
   ]
  },
  {
   "cell_type": "code",
   "execution_count": 64,
   "id": "428d2506-f0e3-436b-8216-5306cb28586e",
   "metadata": {},
   "outputs": [
    {
     "name": "stdout",
     "output_type": "stream",
     "text": [
      "Noku Hotels Kyoto offers a luxurious blend of traditional Kyoto elegance and modern comfort, providing a culturally immersive experience for guests. The hotel features a variety of room options including House Room, Deluxe Room, Premium Room, and Noku Studio, all designed for relaxation and beauty. Located in Kyoto, the hotel serves as a convenient base for exploring local attractions and experiencing the vibrant culture of the city. Dining options at Noku Café offer delicious meals, while facilities such as a gift shop, concierge service, and free parking ensure a comfortable and memorable stay for guests.\n"
     ]
    }
   ],
   "source": [
    "summarized_text_2 = map_reduce_chain.run(new_docs)\n",
    "print(summarized_text_2)"
   ]
  },
  {
   "cell_type": "code",
   "execution_count": 65,
   "id": "fbf563fd-6acc-4861-9c67-572188b35af0",
   "metadata": {},
   "outputs": [],
   "source": [
    "# include content guidelines"
   ]
  },
  {
   "cell_type": "code",
   "execution_count": 66,
   "id": "c9642547-5410-43f9-87d4-b3ec284bfc57",
   "metadata": {},
   "outputs": [],
   "source": [
    "# Open the file in read mode ('r')\n",
    "with open(\"Writing guidelines.txt\", 'r') as file:\n",
    "    # Read the content of the file\n",
    "    file_content = file.read()"
   ]
  },
  {
   "cell_type": "code",
   "execution_count": 67,
   "id": "79da490f-c3e8-448b-97b5-c325958a1ea6",
   "metadata": {},
   "outputs": [],
   "source": [
    "# Map\n",
    "map_template = \"\"\"The following is a set of documents from a hotel website\n",
    "{docs}\n",
    "Based on this list of docs, summaries the docs based on the following guidelines:\n",
    "\n",
    "\"\"\"\n",
    "map_template = map_template + file_content\n",
    "\n",
    "map_prompt = PromptTemplate.from_template(map_template)\n",
    "map_chain = LLMChain(llm=llm, prompt=map_prompt)"
   ]
  },
  {
   "cell_type": "code",
   "execution_count": 68,
   "id": "8dd5948c-649b-4c21-88e9-34d882fffb0b",
   "metadata": {},
   "outputs": [],
   "source": [
    "# Reduce\n",
    "reduce_template = \"\"\"The following is set of summaries of each webpage from a hotels website:\n",
    "{docs}\n",
    "Take these and distill it into a set of paragraphs using the following guidelines:\n",
    "\n",
    "\"\"\"\n",
    "reduce_prompt = PromptTemplate.from_template(reduce_template)"
   ]
  },
  {
   "cell_type": "code",
   "execution_count": 69,
   "id": "acf97277-3585-41a7-849f-fb14e70415fa",
   "metadata": {},
   "outputs": [],
   "source": [
    "final_reduce_template = reduce_template + file_content\n",
    "reduce_prompt = PromptTemplate.from_template(final_reduce_template)"
   ]
  },
  {
   "cell_type": "code",
   "execution_count": 70,
   "id": "34656641-22a0-4517-ac80-2e30c53d2c5a",
   "metadata": {},
   "outputs": [],
   "source": [
    "# Run chain\n",
    "reduce_chain = LLMChain(llm=llm, prompt=reduce_prompt)\n",
    "\n",
    "# Takes a list of documents, combines them into a single string, and passes this to an LLMChain\n",
    "combine_documents_chain = StuffDocumentsChain(\n",
    "    llm_chain=reduce_chain, document_variable_name=\"docs\"\n",
    ")\n",
    "\n",
    "# Combines and iteratively reduces the mapped documents\n",
    "reduce_documents_chain = ReduceDocumentsChain(\n",
    "    # This is final chain that is called.\n",
    "    combine_documents_chain=combine_documents_chain,\n",
    "    # If documents exceed context for `StuffDocumentsChain`\n",
    "    collapse_documents_chain=combine_documents_chain,\n",
    "    # The maximum number of tokens to group documents into.\n",
    "    token_max=4000,\n",
    ")"
   ]
  },
  {
   "cell_type": "code",
   "execution_count": 71,
   "id": "a0f86dac-2747-434d-9b2a-37b4d0865392",
   "metadata": {},
   "outputs": [],
   "source": [
    "# Combining documents by mapping a chain over them, then combining results\n",
    "map_reduce_chain = MapReduceDocumentsChain(\n",
    "    # Map chain\n",
    "    llm_chain=map_chain,\n",
    "    # Reduce chain\n",
    "    reduce_documents_chain=reduce_documents_chain,\n",
    "    # The variable name in the llm_chain to put the documents in\n",
    "    document_variable_name=\"docs\",\n",
    "    # Return the results of the map steps in the output\n",
    "    return_intermediate_steps=False,\n",
    ")"
   ]
  },
  {
   "cell_type": "code",
   "execution_count": 72,
   "id": "a34b8cf8-a6dd-4d66-a69a-7035da12e594",
   "metadata": {},
   "outputs": [],
   "source": [
    "summarized_text_3 = map_reduce_chain.run(new_docs)\n"
   ]
  },
  {
   "cell_type": "code",
   "execution_count": 73,
   "id": "5e328655-cd14-463a-8c6f-6b357583070a",
   "metadata": {},
   "outputs": [
    {
     "name": "stdout",
     "output_type": "stream",
     "text": [
      "Noku Hotels Kyoto\n",
      "\n",
      "Short introduction:\n",
      "Experience curated art and expansive elegance at Noku Hotels Kyoto. With luxurious amenities and hand-crafted comfort, this hotel offers a collaboration of beauty from every perspective.\n",
      "\n",
      "Main Hotel introduction:\n",
      "Noku Hotels Kyoto exudes lavish comfort and sophistication, with elegant rooms designed with curated art. The hotel focuses on beauty and comfort, providing a luxurious experience for guests seeking a memorable stay in Kyoto.\n",
      "\n",
      "Location:\n",
      "Conveniently located in the heart of Kyoto, Noku Hotels offers easy access to nearby attractions and shopping areas. Guests can explore the rich culture and history of Kyoto while enjoying the central location of the hotel.\n",
      "\n",
      "Room intro:\n",
      "The Premium Room at Noku Hotels Kyoto offers spacious accommodation with modern amenities, including a king-size or twin-size bed, a 40-inch TV, Wi-Fi, and a luxurious bathroom with Noku pyjamas and towels.\n",
      "\n",
      "Food & drink:\n",
      "Guests can dine at the hotel's on-site restaurant, which offers a range of delicious dishes made with fresh, local ingredients. The hotel also features a bar for guests to enjoy cocktails and beverages.\n",
      "\n",
      "Facilities and Activities:\n",
      "Noku Hotels Kyoto offers a range of facilities, including a swimming pool, spa, and laundry services. Guests can also participate in various activities and experiences organized by the hotel for a truly memorable stay.\n"
     ]
    }
   ],
   "source": [
    "print(summarized_text_3)"
   ]
  },
  {
   "cell_type": "code",
   "execution_count": null,
   "id": "924d77cc-587d-4c1e-8dd6-ab02876bd98c",
   "metadata": {},
   "outputs": [],
   "source": []
  }
 ],
 "metadata": {
  "kernelspec": {
   "display_name": "Python 3 (ipykernel)",
   "language": "python",
   "name": "python3"
  },
  "language_info": {
   "codemirror_mode": {
    "name": "ipython",
    "version": 3
   },
   "file_extension": ".py",
   "mimetype": "text/x-python",
   "name": "python",
   "nbconvert_exporter": "python",
   "pygments_lexer": "ipython3",
   "version": "3.10.6"
  }
 },
 "nbformat": 4,
 "nbformat_minor": 5
}
