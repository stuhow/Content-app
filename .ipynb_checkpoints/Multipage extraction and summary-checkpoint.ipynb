{
 "cells": [
  {
   "cell_type": "code",
   "execution_count": 1,
   "id": "c0720a62-1502-4608-b5c9-78d4d513723f",
   "metadata": {},
   "outputs": [],
   "source": [
    "from langchain_community.document_loaders.recursive_url_loader import RecursiveUrlLoader\n",
    "\n",
    "from bs4 import BeautifulSoup as Soup\n",
    "\n",
    "from langchain.chains.combine_documents.stuff import StuffDocumentsChain\n",
    "from langchain.chains.llm import LLMChain\n",
    "from langchain.prompts import PromptTemplate\n",
    "from langchain_openai import ChatOpenAI\n"
   ]
  },
  {
   "cell_type": "code",
   "execution_count": 2,
   "id": "30a91ad9-31ee-44f0-9a00-b69702f79f59",
   "metadata": {},
   "outputs": [],
   "source": [
    "from dotenv import load_dotenv\n",
    "import os\n",
    "\n",
    "# Load the environment variables from the .env file\n",
    "load_dotenv()\n",
    "\n",
    "# Access environment variables\n",
    "api_key = os.getenv(\"OPENAI_KEY\")"
   ]
  },
  {
   "cell_type": "code",
   "execution_count": 3,
   "id": "ce2e8470-e59a-4187-9b52-bea0283cf872",
   "metadata": {},
   "outputs": [],
   "source": [
    "headers = {\n",
    "    \"User-Agent\": \"Mozilla/5.0 (Windows NT 10.0; Win64; x64) AppleWebKit/537.36 (KHTML, like Gecko) Chrome/121.0.0.0 Safari/537.36\",\n",
    "    \"Accept-Language\": \"en-GB,en;q=0.5\",\n",
    "    \"Referer\": \"https://google.com\",\n",
    "    \"DNT\": \"1\"\n",
    "}"
   ]
  },
  {
   "cell_type": "code",
   "execution_count": 4,
   "id": "b2195de4-2856-48e6-9754-b22c98e7923e",
   "metadata": {},
   "outputs": [],
   "source": [
    "url = \"https://parkhoteltokyo.com\"\n",
    "url = \"https://www.nokuhotels.com/kyoto/\"\n",
    "url = \"https://www.millenniumhotels.com/en/london/the-baileys-hotel-london/\""
   ]
  },
  {
   "cell_type": "code",
   "execution_count": 9,
   "id": "11eed4e9-b94e-4234-a795-49bc597c5678",
   "metadata": {},
   "outputs": [],
   "source": [
    "loader = RecursiveUrlLoader(\n",
    "    url=url, max_depth=1, headers=headers, extractor=lambda x: Soup(x, \"html.parser\").text\n",
    ")\n",
    "docs = loader.load()"
   ]
  },
  {
   "cell_type": "code",
   "execution_count": 10,
   "id": "53c4542f-9a72-4b64-90db-fba74e2fff7a",
   "metadata": {},
   "outputs": [
    {
     "name": "stdout",
     "output_type": "stream",
     "text": [
      "1\n"
     ]
    }
   ],
   "source": [
    "print(len(docs))"
   ]
  },
  {
   "cell_type": "code",
   "execution_count": 11,
   "id": "a54c5974-90ab-4383-8811-01f3c715adc3",
   "metadata": {
    "scrolled": true
   },
   "outputs": [
    {
     "data": {
      "text/plain": [
       "[Document(page_content=\"\\n\\n\\n\\n\\n\\n\\nThe Bailey's Hotel London Kensington | South Kensington Hotel UK\\n\\n\\n\\n\\n\\n\\n\\n\\n\\n\\n\\n\\n\\n\\n\\n\\n\\n\\n\\n\\n\\n\\n\\n\\n\\n\\n\\n\\n\\n\\n\\n\\n\\n\\n\\n\\n\\n\\n\\n\\n\\n\\n\\n\\n\\n\\n\\n\\n\\n\\n\\n\\n\\n\\n\\n\\n\\n\\n\\n\\n\\n\\n\\nThe Baileys Hotel London\\nSet in a stunning Victorian-era townhouse, The Bailey's Hotel London Kensington combines old-world charm with the flair of fashionable South Kensington. \\nhttps://www.millenniumhotels.com/en/london/the-baileys-hotel-london/\\nPhone: +44 2073 736000\\nCheck-in:15:003pm\\nCheck -out:\\nRoom rates: GBP 162.00-598.80\\n\\n140 Gloucester Road London, United Kingdom SW7 4QH\\nSW7 4QH\\nLondon\\nUK\\n\\n4.5out of\\n 5 stars-\\n2140votes\\n\\n\\n\\n\\n\\n\\n\\n\\n\\n\\n\\n\\n\\n\\n\\n\\n\\n\\n\\n\\n\\n\\n\\n\\n\\n\\r\\nHotel                                \\n\\n\\n\\n\\n\\r\\nRooms                                \\n\\n\\n\\n\\n\\r\\nOffers                                \\n\\n\\n\\n\\n\\r\\nDining                                \\n\\n\\n\\n\\n\\r\\nContact Us                                \\n\\n\\n\\n\\n\\r\\nMeetings & Events                                \\n\\n\\n\\n\\n\\r\\nChinese New Year                                \\n\\n\\n\\n\\n\\n\\n\\n\\n\\n\\n\\n\\n\\n\\nSPECIAL MEMBER RATES\\n\\n\\n\\n\\n\\nEARN LOYALTY POINTS\\n\\n\\n\\n\\n\\nEXCLUSIVE ONLINE OFFERS\\n\\n\\n\\n\\n\\n\\n\\n\\n\\n\\n\\n\\n\\n\\n\\n\\n\\n\\n\\n\\n\\n\\n\\n\\n\\n\\n\\n\\n\\n\\n\\n\\n\\n\\n\\n\\n\\n/\\n\\n\\n\\n\\n\\n\\n\\n\\n\\n\\n\\n\\n\\n\\nHotel Amenities\\n\\nConcierge\\nRestaurant and Bar\\nWi-Fi\\nMeetings and Events Facilities\\nMultilingual Staff\\nGym\\nRoom Service\\n\\n\\n\\n\\nThe Bailey's Hotel London Kensington\\n4-star hotel \\n\\n\\n\\nA fusion of British and Asian heritage in the heart of Kensington\\n\\nWalking distance to popular attractions such as the Natural History Museum and Royal Albert Hall\\n\\n\\nSoak in the rich history of The Bailey's Hotel London Kensington\\n\\nInspiring British heritage, The Bailey's Hotel London Kensington is a charming spot in the heart of fashionable South Kensington. You’ll feel at home in the Victorian grandeur of our redbrick townhouse, just moments away from highly regarded museums and Knightsbridge. With a history as beguiling as the five-story staircase and impressive décor, this characterful South Kensington hotel will make you wish walls could talk. During your stay, dine at the famous Bugis Singapore Restaurant, an upscale restaurant, set on the ground floor of the elegant Bailey’s Hotel, celebrating authentic Singaporean dishes influenced by Malaysian and Chinese cuisines.\\n\\xa0\\nWhy you’ll love staying with us\\xa0\\n\\n• Stylish boutique rooms that are welcoming and chic, with a focus on British craftsmanship\\xa0\\n• Spacious family rooms available\\xa0\\n• Unlimited, high-speed multi-device Wi-Fi\\n• Nearby Millennium Conference Centre for larger events\\xa0\\n• 24-hour front desk\\xa0\\n• 24-hour business centre with computer and printer facilities\\xa0\\n\\xa0\\n\\n We have won the TripAdvisor Travelers' Choice Awards 2023\\n\\n\\n\\n\\n\\n\\n\\nContact Us\\n140 Gloucester Road London, United Kingdom SW7 4QH \\n+44 2073 736000\\nreservations.baileys@millenniumhotels.co.uk\\nCheck-in: 3pm - Checkout: 12 Noon\\n\\nSubscribe to our Newsletter\\nAdditional Information\\n\\n\\n\\nHotel Amenities\\n\\r\\n                            See All Amenities\\r\\n                        \\n\\nConcierge\\nRestaurant and Bar\\nWi-Fi\\nMeetings and Events Facilities\\nMultilingual Staff\\nGym\\n\\n\\n\\n\\n\\n\\n\\n\\n\\nHotel Policies\\n\\n\\n\\n\\n\\n\\n\\n\\n\\n\\n\\nAwards & Accolades\\n\\n\\n\\n\\n\\n\\n\\n\\n\\nSubscribe to our Newsletter\\n\\n\\nEmail Address\\nsend\\n\\n\\n\\n\\n\\n\\nI would like to receive the global e-newsletter containing offers and updates about your products and services, by e-mail. These communications will come from M & C Reservations Services Limited as a subsidiary of the Millennium & Copthorne Hotels Limited group of companies.\\n\\n\\nPlease tick the consent box below to submit your email address\\n\\n\\n\\n\\n\\n\\n\\nOur Rooms\\n\\n\\n\\n\\n\\n\\n\\n\\n\\n\\n\\n\\n\\n\\n\\n\\n\\n\\n\\n\\n\\n\\n\\n\\n\\n\\n\\n/\\n\\n\\n\\n\\n\\n\\nCosy Double\\n\\n\\n\\n\\n\\n\\n12 Sqm / 129 Sq FtDecorated with eye-catching English décor, our cozy space has every amenity you need for a relaxing stay in the city.\\nView Details\\nView Gallery\\n\\nFROM\\nGBP 162.00\\nMembers save GBP 16.20\\n\\n\\n\\n\\nMax Occupancy:2\\n\\n\\n\\nRoom Occupancy\\nThis room accommodates up to\\n\\n\\n\\nAdults \\n\\n\\n\\n Child(0 - 11 years)\\n\\nTotal occupancy cannot exceed 2 and there must be at least an adult for each room\\n\\n\\n\\nBook Room\\n\\nSign in\\r\\n                                                to earn 1,846 points\\r\\n                                            \\n\\n\\n\\n\\n\\n\\n\\n\\n\\n\\n\\n\\n\\n\\n\\n\\n\\n\\n\\n\\n\\n\\n\\n\\n\\n\\n\\n\\n\\n\\n\\n\\n\\n\\n/\\n\\n\\n\\n\\n\\n\\nClassic Double\\n\\n\\n\\n\\n\\n\\n25 Sqm / 269 Sq FtAn airy and quintessentially British space, our room combines modern comforts and amenities with a classic townhouse touch.\\nView Details\\nView Gallery\\n\\nFROM\\nGBP 210.00\\nMembers save GBP 21.00\\n\\n\\n\\nBook Room\\n\\nSign in\\r\\n                                                to earn 2,393 points\\r\\n                                            \\n\\n\\n\\n\\n\\n\\n\\n\\n\\n\\n\\n\\n\\n\\n\\n\\n\\n\\n\\n\\n\\n\\n\\n\\n\\n\\n\\n\\n\\n\\n\\n\\n\\n\\n\\n\\n\\n\\n\\n\\n\\n\\n\\n\\n\\n\\n\\n\\n\\n/\\n\\n\\n\\n\\n\\n\\nDeluxe Double\\n\\n\\n\\n\\n\\n\\n30 Sqm / 323 Sq FtA room generous in size, our airy space is a peaceful place to unwind and enjoy your 40 winks in the buzzing city.\\nView Details\\nView Gallery\\n\\nFROM\\nGBP 302.40\\nMembers save GBP 30.24\\n\\n\\n\\nBook Room\\n\\nSign in\\r\\n                                                to earn 3,446 points\\r\\n                                            \\n\\n\\n\\n\\n\\n\\n\\n\\n\\n\\n\\n\\n\\n\\n\\n\\n\\n\\n\\n\\n\\n\\n\\n\\n\\n\\n\\n\\n\\n\\n\\n\\n\\n\\n\\n\\n\\n\\n\\n\\n\\n\\n\\n\\n\\n\\n\\n\\n\\n\\n\\n\\n\\n\\n/\\n\\n\\n\\n\\n\\n\\nLuxury Double\\n\\n\\n\\n\\n\\n\\n30 - 40 Sqm / 323 - 431 Sq FtA cut above the rest, enjoy modern amenities and spacious living that’s set against the old-world charm of Victorian décor.\\nView Details\\nView Gallery\\n\\nFROM\\nGBP 358.80\\nMembers save GBP 35.88\\n\\n\\n\\nBook Room\\n\\nSign in\\r\\n                                                to earn 4,088 points\\r\\n                                            \\n\\n\\n\\n\\n\\n\\n\\n\\n\\n\\n\\n\\n\\n\\n\\n\\n\\n\\n\\n\\n\\n\\n\\n\\n\\n\\n\\n\\n\\n/\\n\\n\\n\\n\\n\\n\\nLuxury Family\\n\\n\\n\\n\\n\\n\\n40 Sqm / 431 Sq FtFor families who want a lot of space, our suite won’t disappoint. Both youngsters and grown-ups will love luxe home comforts.\\nView Details\\nView Gallery\\n\\nFROM\\nGBP 418.80\\nMembers save GBP 41.88\\n\\n\\n\\n\\nMax Occupancy:4\\n\\n\\n\\nRoom Occupancy\\nThis room accommodates up to\\n\\n\\n\\n\\n\\nAdults \\n\\n\\n\\n\\n\\n Children(0 - 11 years)\\n\\nTotal occupancy cannot exceed 4 and there must be at least an adult for each room\\n\\n\\n\\nBook Room\\n\\nSign in\\r\\n                                                to earn 4,772 points\\r\\n                                            \\n\\n\\n\\n\\n\\n\\n\\n\\n\\n\\n\\n\\n\\n\\n\\n\\n\\n\\n\\n\\n\\n\\n\\n\\n\\n\\n\\n\\n\\n\\n\\n\\n\\n\\n\\n\\n\\n\\n\\n\\n\\n\\n\\n\\n/\\n\\n\\n\\n\\n\\n\\nStudio Suite\\n\\n\\n\\n\\n\\n\\n40 Sqm / 431 Sq FtUnwind in your own private paradise and rewind a couple centuries in this charming suite outfitted with Victorian touches.\\nView Details\\nView Gallery\\n\\nFROM\\nGBP 478.80\\nMembers save GBP 47.88\\n\\n\\n\\nBook Room\\n\\nSign in\\r\\n                                                to earn 5,456 points\\r\\n                                            \\n\\n\\n\\n\\n\\n\\n\\n\\n\\n\\n\\n\\n\\n\\n\\n\\n\\n\\n\\n\\n\\n\\n\\n\\n\\n\\n\\n\\n\\n\\n\\n\\n\\n\\n/\\n\\n\\n\\n\\n\\n\\nSignature Suite\\n\\n\\n\\n\\n\\n\\n40 Sqm / 431 Sq FtThese beautifully unique bedrooms feature a roll top bath with a separate living area.\\nView Details\\nView Gallery\\n\\nFROM\\nGBP 598.80\\nMembers save GBP 59.88\\n\\n\\n\\nBook Room\\n\\nSign in\\r\\n                                                to earn 6,823 points\\r\\n                                            \\n\\n\\n\\n\\n\\nSHOW MORE (3)\\nSHOW MORE (5)\\n\\n\\n\\n\\nHotel Offers\\nSee All Offers\\n\\n\\n\\n\\n\\n\\n\\n\\n\\n\\n\\n\\n\\nEurope\\n\\nLimited Time Offer\\n\\n\\nBook Now\\n\\n\\n\\n\\n\\n\\n\\n\\n\\n\\nThe Bailey's Hotel London Kensington\\n\\nBaileys Solo Traveller\\n\\n\\nBOOK NOW\\n\\n\\n\\n\\n\\n\\n\\n\\n\\n\\nThe Bailey's Hotel London Kensington\\n\\nBaileys Interconnecting Room\\n\\n\\nBOOK NOW\\n\\n\\n\\n\\n\\n \\n\\n\\nHotel Neighbourhood\\nExplore More\\n\\n\\n\\n\\n\\n\\nDine With Us\\n\\nSee All Dining\\n\\n\\n\\n\\n\\n\\n\\n\\n\\n\\n\\n\\n\\n\\nAsian\\nBailey's Bar\\nSit back and relax in the best bar in South Kensington for after-work drinks or cocktails.\\n\\nview restaurant\\n\\n\\n\\n\\n\\n\\n\\n\\n\\n\\n\\n\\n\\nAsian\\nThe Bugis Singapore Restaurant\\nAn upscale restaurant in the heart of Kensington, set on the ground floor of the elegant Bailey’s Hotel, celebrating authentic Singaporean dishes influenced by Malaysian and Chinese cuisines.\\n\\nview restaurant\\nBOOK A TABLE\\n\\n\\n\\n\\n\\n\\n\\n\\n\\n\\n\\n\\n\\nBritish\\nAfternoon Tea\\nEnjoy freshly prepared indulgence\\n\\nview restaurant\\n\\n\\n\\n\\n\\n\\n\\n\\n\\n\\n\\n\\n\\nIndian\\nBombay Brasserie\\nExotic Indian flavours\\n\\nview restaurant\\n\\n\\n\\n\\n\\n\\n\\n\\n\\n\\n\\nConnect With Us\\n\\nShare your moments - #mymillennium\\n\\n\\n\\n\\n\\n\\n\\n\\n\\n\\n\\n\\n\\n\\n\\nDISTINCTIVE LUXURY\\n\\n\\n\\n\\n\\n\\n\\n\\n\\n\\nUNIQUE\\n\\n\\n\\n\\n\\n\\n\\n\\n\\n\\nPREMIUM\\n\\n\\n\\n\\n\\n\\n\\n\\n\\n\\n\\n\\n\\n\\nLIFESTYLE\\n\\n\\n\\n\\n\\n\\n\\n\\n\\n\\n\\n\\n\\n\\nCOMFORTABLE\\n\\n\\n\\n\\n\\n\\n\\n\\n\\n\\n\\n\\n\\n\\n\\n\\n\\n\\n\\n\\n\\n\\n\\n\\n\\nABOUT US\\n\\nAbout Us\\nPress Releases\\nGovernance & Corporate Responsibility\\nCareers\\n\\n\\n\\n\\n\\nQUICK LINKS\\n\\nHotels\\nOffers\\nVenues\\nWeddings\\nMy Millennium Magazine\\n\\n\\n\\n\\n\\nPROGRAMMES\\n\\nMy  Millennium\\nMillennium for Business\\nBest Rate Promise\\nFrequent Flyer Programmes\\nCorporate Partners\\nCorporate Booker Programmes\\nA La Carte Club Programme\\nTower Club\\n\\n\\n\\n\\n\\nCONTACT US\\n\\nEnquiry Form\\nHotel Reservation Offices\\nSales Offices\\n\\n\\n\\n\\n\\n\\nFOLLOW US\\n\\n\\n\\n\\n\\n\\n\\n\\n\\n\\n\\n\\n\\n\\n\\nNewsletter\\n\\n\\r\\n                                    Subscribe to our Newsletter\\r\\n                                \\n\\nSUBSCRIBE\\n\\n\\nPlease tick the consent box below to submit your email address\\n\\n\\n\\n\\n\\n\\nI would like to receive the global e-newsletter containing offers and updates about your products and services, by e-mail. These communications will come from M & C Reservations Services Limited as a subsidiary of the Millennium & Copthorne Hotels Limited group of companies.\\n\\n\\n\\n\\n\\n\\n\\n\\n\\nTerms of Use\\n|\\nSitemap\\n|\\nPrivacy Policy\\n|\\nCorporate Responsibility\\n\\n\\r\\n\\r\\n                        © 2016 - 2024 Millennium Hotels and Resorts.\\r\\n                        \\n京ICP备09039431号\\xa0 | 北京香江财富酒店有限公司\\r\\n                    \\n\\n\\n\\n\\n\\n\\n\\n\\n\\n\\n\\n\\n\\n \\n\\n\\n\\n\\n\\n\\n\\n\\n\\n\\n\\n\\n\\n\\n\\n\", metadata={'source': 'https://www.millenniumhotels.com/en/london/the-baileys-hotel-london/', 'title': \"The Bailey's Hotel London Kensington | South Kensington Hotel UK\", 'description': \"The Bailey's Hotel London Kensington is a boutique hotel in South Kensington, London. With 141 years behind us, we celebrate the art of being timeless. Book online today.\", 'language': 'en'})]"
      ]
     },
     "execution_count": 11,
     "metadata": {},
     "output_type": "execute_result"
    }
   ],
   "source": [
    "docs"
   ]
  },
  {
   "cell_type": "code",
   "execution_count": 8,
   "id": "7fad8218-c3dc-479f-8509-97db747a3bee",
   "metadata": {},
   "outputs": [
    {
     "name": "stderr",
     "output_type": "stream",
     "text": [
      "/home/stuart/.pyenv/versions/3.10.6/envs/content_app/lib/python3.10/site-packages/langchain_core/_api/deprecation.py:117: LangChainDeprecationWarning: The function `run` was deprecated in LangChain 0.1.0 and will be removed in 0.2.0. Use invoke instead.\n",
      "  warn_deprecated(\n"
     ]
    },
    {
     "name": "stdout",
     "output_type": "stream",
     "text": [
      "The Bailey's Hotel in London offers four restaurants, including an Asian cuisine bar and a Singaporean restaurant. They also offer afternoon tea and Indian cuisine. The hotel provides luxury accommodations and amenities, and they have various programs and partnerships for guests. The website also includes information about the hotel's corporate responsibility and career opportunities.\n"
     ]
    }
   ],
   "source": [
    "# Define prompt\n",
    "prompt_template = \"\"\"Write a concise summary of the following:\n",
    "\"{text}\"\n",
    "CONCISE SUMMARY:\"\"\"\n",
    "prompt = PromptTemplate.from_template(prompt_template)\n",
    "\n",
    "# Define LLM chain\n",
    "llm = ChatOpenAI(temperature=0, model_name=\"gpt-3.5-turbo-16k\")\n",
    "llm_chain = LLMChain(llm=llm, prompt=prompt)\n",
    "\n",
    "# Define StuffDocumentsChain\n",
    "stuff_chain = StuffDocumentsChain(llm_chain=llm_chain, document_variable_name=\"text\")\n",
    "\n",
    "print(stuff_chain.run(docs[3:4]))"
   ]
  },
  {
   "cell_type": "code",
   "execution_count": 9,
   "id": "9211f1a5-9110-4c5b-85ae-a57dab1fe89c",
   "metadata": {},
   "outputs": [],
   "source": [
    "import tiktoken\n",
    "encoding = tiktoken.encoding_for_model(\"gpt-3.5-turbo\")\n",
    "document_token_lengths = [len(encoding.encode(doc.page_content)) for doc in docs]"
   ]
  },
  {
   "cell_type": "code",
   "execution_count": 10,
   "id": "94ee7646-2c66-4a86-b978-84ced44a1c7c",
   "metadata": {},
   "outputs": [
    {
     "data": {
      "image/png": "[encoded data removed]",
      "text/plain": [
       "<Figure size 640x480 with 1 Axes>"
      ]
     },
     "metadata": {},
     "output_type": "display_data"
    }
   ],
   "source": [
    "import matplotlib.pyplot as plt\n",
    "\n",
    "# Create a histogram\n",
    "plt.hist(document_token_lengths, bins='auto', alpha=0.7, color='blue', edgecolor='black')\n",
    "\n",
    "# Add labels and title\n",
    "plt.xlabel('Values')\n",
    "plt.ylabel('Frequency')\n",
    "plt.title('Histogram of document token length')\n",
    "\n",
    "# Show the plot\n",
    "plt.show()\n"
   ]
  },
  {
   "cell_type": "code",
   "execution_count": 11,
   "id": "d07fa53c-ce4f-4934-95d9-ce65afb7f898",
   "metadata": {},
   "outputs": [
    {
     "data": {
      "text/plain": [
       "0"
      ]
     },
     "execution_count": 11,
     "metadata": {},
     "output_type": "execute_result"
    }
   ],
   "source": [
    "# Count occurrences of values over 3000\n",
    "count_over_2500 = sum(x > 2500 for x in document_token_lengths)\n",
    "count_over_2500"
   ]
  },
  {
   "cell_type": "code",
   "execution_count": 12,
   "id": "976e5a23-5fb5-4fbe-9be6-786c12770c06",
   "metadata": {},
   "outputs": [],
   "source": [
    "for doc in docs:\n",
    "    if len(encoding.encode(doc.page_content)) > 2500:\n",
    "        print(doc.metadata['source'], len(encoding.encode(doc.page_content)))"
   ]
  },
  {
   "cell_type": "code",
   "execution_count": 13,
   "id": "d3731b18-0223-4150-bdc4-2855cf21a854",
   "metadata": {},
   "outputs": [],
   "source": [
    "import re\n",
    "new_docs = []\n",
    "for doc in docs:\n",
    "    if len(encoding.encode(doc.page_content)) < 2500:\n",
    "        new_docs.append(doc)"
   ]
  },
  {
   "cell_type": "code",
   "execution_count": 14,
   "id": "28083ab3-b4be-4421-969d-ddf832ecb466",
   "metadata": {},
   "outputs": [],
   "source": [
    "# Remove 2 or more consecutive \\n with a single \\n in each document\n",
    "for doc in new_docs:\n",
    "    doc.page_content = re.sub(r'\\n{2,}', '\\n', doc.page_content)"
   ]
  },
  {
   "cell_type": "code",
   "execution_count": 15,
   "id": "30bbc054-c4a7-4804-a18d-1641100fdf7c",
   "metadata": {},
   "outputs": [],
   "source": [
    "# Remove 2 or more consecutive \\t with a single \\t in each document\n",
    "for doc in new_docs:\n",
    "    doc.page_content = re.sub(r'\\t{2,}', '\\t', doc.page_content)"
   ]
  },
  {
   "cell_type": "code",
   "execution_count": null,
   "id": "f58ee0f8-0721-403b-b6e0-c3f6c53a1247",
   "metadata": {},
   "outputs": [],
   "source": []
  },
  {
   "cell_type": "code",
   "execution_count": 16,
   "id": "cf896d60-e45d-4faf-80b5-44cac0f1fb8a",
   "metadata": {},
   "outputs": [],
   "source": [
    "new_document_token_lengths = [len(encoding.encode(doc.page_content)) for doc in new_docs]"
   ]
  },
  {
   "cell_type": "code",
   "execution_count": 17,
   "id": "5dd0f533-ba45-4d01-9961-f47c5e771c0f",
   "metadata": {},
   "outputs": [
    {
     "data": {
      "image/png": "[encoded data removed]",
      "text/plain": [
       "<Figure size 640x480 with 1 Axes>"
      ]
     },
     "metadata": {},
     "output_type": "display_data"
    }
   ],
   "source": [
    "import matplotlib.pyplot as plt\n",
    "\n",
    "# Create a histogram\n",
    "plt.hist(new_document_token_lengths, bins='auto', alpha=0.7, color='blue', edgecolor='black')\n",
    "\n",
    "# Add labels and title\n",
    "plt.xlabel('Values')\n",
    "plt.ylabel('Frequency')\n",
    "plt.title('Histogram of document token length')\n",
    "\n",
    "# Show the plot\n",
    "plt.show()"
   ]
  },
  {
   "cell_type": "code",
   "execution_count": 24,
   "id": "dfc90a9e-00cf-4597-9e78-d7faffafceaa",
   "metadata": {},
   "outputs": [],
   "source": [
    "# Summarisarion"
   ]
  },
  {
   "cell_type": "code",
   "execution_count": 18,
   "id": "f3ea9b76-602f-424c-8450-03f9ffe9a5d5",
   "metadata": {},
   "outputs": [],
   "source": [
    "from langchain.chains import MapReduceDocumentsChain, ReduceDocumentsChain\n",
    "from langchain.text_splitter import CharacterTextSplitter\n",
    "\n",
    "llm = ChatOpenAI(temperature=0, model_name=\"gpt-3.5-turbo\")\n",
    "# llm = ChatOpenAI(temperature=0, model_name=\"gpt-4\")\n",
    "\n",
    "# Map\n",
    "map_template = \"\"\"The following is a set of documents from a hotel website\n",
    "{docs}\n",
    "Based on this list of docs, summaries the docs based on the following categories: Hotel style, Rooms & Suites, Location, Restaurants and facilities.\n",
    "If the document does not contain inforamtion about one or more of of the categories do not make the information up.\n",
    "Helpful Answer:\"\"\"\n",
    "map_prompt = PromptTemplate.from_template(map_template)\n",
    "map_chain = LLMChain(llm=llm, prompt=map_prompt)"
   ]
  },
  {
   "cell_type": "code",
   "execution_count": 19,
   "id": "09e5b019-511b-412e-bb3c-0e21e287952f",
   "metadata": {},
   "outputs": [],
   "source": [
    "# Reduce\n",
    "reduce_template = \"\"\"The following is set of summaries of each webpage from a hotels website:\n",
    "{docs}\n",
    "Take these and distill it into a final summary including each of the main themes: Hotel style, Rooms & Suites, Location, Restaurants and facilities. \n",
    "Helpful Answer:\"\"\"\n",
    "reduce_prompt = PromptTemplate.from_template(reduce_template)"
   ]
  },
  {
   "cell_type": "code",
   "execution_count": 20,
   "id": "a3bde239-2e43-4e90-90d2-7e8809db9604",
   "metadata": {},
   "outputs": [],
   "source": [
    "# Run chain\n",
    "reduce_chain = LLMChain(llm=llm, prompt=reduce_prompt)\n",
    "\n",
    "# Takes a list of documents, combines them into a single string, and passes this to an LLMChain\n",
    "combine_documents_chain = StuffDocumentsChain(\n",
    "    llm_chain=reduce_chain, document_variable_name=\"docs\"\n",
    ")\n",
    "\n",
    "# Combines and iteratively reduces the mapped documents\n",
    "reduce_documents_chain = ReduceDocumentsChain(\n",
    "    # This is final chain that is called.\n",
    "    combine_documents_chain=combine_documents_chain,\n",
    "    # If documents exceed context for `StuffDocumentsChain`\n",
    "    collapse_documents_chain=combine_documents_chain,\n",
    "    # The maximum number of tokens to group documents into.\n",
    "    token_max=4000,\n",
    ")"
   ]
  },
  {
   "cell_type": "code",
   "execution_count": 21,
   "id": "44c53165-87f2-47fb-bfcb-d7e061f5251f",
   "metadata": {},
   "outputs": [],
   "source": [
    "# Combining documents by mapping a chain over them, then combining results\n",
    "map_reduce_chain = MapReduceDocumentsChain(\n",
    "    # Map chain\n",
    "    llm_chain=map_chain,\n",
    "    # Reduce chain\n",
    "    reduce_documents_chain=reduce_documents_chain,\n",
    "    # The variable name in the llm_chain to put the documents in\n",
    "    document_variable_name=\"docs\",\n",
    "    # Return the results of the map steps in the output\n",
    "    return_intermediate_steps=False,\n",
    ")"
   ]
  },
  {
   "cell_type": "code",
   "execution_count": 22,
   "id": "428d2506-f0e3-436b-8216-5306cb28586e",
   "metadata": {},
   "outputs": [
    {
     "name": "stdout",
     "output_type": "stream",
     "text": [
      "The Bailey's Hotel London Kensington offers distinctive luxury and premium accommodations in a stunning Victorian-era townhouse in South Kensington. The hotel provides a range of room options, including family rooms and suites, decorated with British craftsmanship and modern amenities. Conveniently located near popular attractions, the hotel features dining options such as Bailey's Bar and The Bugis Singapore Restaurant. Additional facilities include a concierge, Wi-Fi, meetings and events spaces, a gym, and room service, providing guests with a comfortable and upscale lifestyle experience.\n"
     ]
    }
   ],
   "source": [
    "summarized_text_2 = map_reduce_chain.run(new_docs)\n",
    "print(summarized_text_2)"
   ]
  },
  {
   "cell_type": "code",
   "execution_count": 23,
   "id": "fbf563fd-6acc-4861-9c67-572188b35af0",
   "metadata": {},
   "outputs": [],
   "source": [
    "# include content guidelines"
   ]
  },
  {
   "cell_type": "code",
   "execution_count": 34,
   "id": "c9642547-5410-43f9-87d4-b3ec284bfc57",
   "metadata": {},
   "outputs": [],
   "source": [
    "# Open the file in read mode ('r')\n",
    "with open(\"Writing guidelines.txt\", 'r') as file:\n",
    "    # Read the content of the file\n",
    "    file_content = file.read()"
   ]
  },
  {
   "cell_type": "code",
   "execution_count": 35,
   "id": "79da490f-c3e8-448b-97b5-c325958a1ea6",
   "metadata": {},
   "outputs": [],
   "source": [
    "# Map\n",
    "map_template = \"\"\"The following is a set of documents from a hotel website\n",
    "{docs}\n",
    "Based on this list of docs, summaries the docs based on the following guidelines:\n",
    "\n",
    "\"\"\"\n",
    "map_template = map_template + file_content\n",
    "\n",
    "map_prompt = PromptTemplate.from_template(map_template)\n",
    "map_chain = LLMChain(llm=llm, prompt=map_prompt)"
   ]
  },
  {
   "cell_type": "code",
   "execution_count": 36,
   "id": "8dd5948c-649b-4c21-88e9-34d882fffb0b",
   "metadata": {},
   "outputs": [],
   "source": [
    "# Reduce\n",
    "reduce_template = \"\"\"The following is set of summaries of each webpage from a hotels website:\n",
    "{docs}\n",
    "Take these and distill it into a set of paragraphs using the following guidelines. One paragraph per point:\n",
    "\n",
    "\"\"\"\n",
    "reduce_prompt = PromptTemplate.from_template(reduce_template)"
   ]
  },
  {
   "cell_type": "code",
   "execution_count": 37,
   "id": "acf97277-3585-41a7-849f-fb14e70415fa",
   "metadata": {},
   "outputs": [],
   "source": [
    "final_reduce_template = reduce_template + file_content\n",
    "reduce_prompt = PromptTemplate.from_template(final_reduce_template)"
   ]
  },
  {
   "cell_type": "code",
   "execution_count": 38,
   "id": "34656641-22a0-4517-ac80-2e30c53d2c5a",
   "metadata": {},
   "outputs": [],
   "source": [
    "# Run chain\n",
    "reduce_chain = LLMChain(llm=llm, prompt=reduce_prompt)\n",
    "\n",
    "# Takes a list of documents, combines them into a single string, and passes this to an LLMChain\n",
    "combine_documents_chain = StuffDocumentsChain(\n",
    "    llm_chain=reduce_chain, document_variable_name=\"docs\"\n",
    ")\n",
    "\n",
    "# Combines and iteratively reduces the mapped documents\n",
    "reduce_documents_chain = ReduceDocumentsChain(\n",
    "    # This is final chain that is called.\n",
    "    combine_documents_chain=combine_documents_chain,\n",
    "    # If documents exceed context for `StuffDocumentsChain`\n",
    "    collapse_documents_chain=combine_documents_chain,\n",
    "    # The maximum number of tokens to group documents into.\n",
    "    token_max=4000,\n",
    ")"
   ]
  },
  {
   "cell_type": "code",
   "execution_count": 39,
   "id": "a0f86dac-2747-434d-9b2a-37b4d0865392",
   "metadata": {},
   "outputs": [],
   "source": [
    "# Combining documents by mapping a chain over them, then combining results\n",
    "map_reduce_chain = MapReduceDocumentsChain(\n",
    "    # Map chain\n",
    "    llm_chain=map_chain,\n",
    "    # Reduce chain\n",
    "    reduce_documents_chain=reduce_documents_chain,\n",
    "    # The variable name in the llm_chain to put the documents in\n",
    "    document_variable_name=\"docs\",\n",
    "    # Return the results of the map steps in the output\n",
    "    return_intermediate_steps=False,\n",
    ")"
   ]
  },
  {
   "cell_type": "code",
   "execution_count": 40,
   "id": "a34b8cf8-a6dd-4d66-a69a-7035da12e594",
   "metadata": {},
   "outputs": [],
   "source": [
    "summarized_text_3 = map_reduce_chain.run(new_docs)\n"
   ]
  },
  {
   "cell_type": "code",
   "execution_count": 41,
   "id": "5e328655-cd14-463a-8c6f-6b357583070a",
   "metadata": {},
   "outputs": [
    {
     "name": "stdout",
     "output_type": "stream",
     "text": [
      "Hotel Name: The Bailey's Hotel London Kensington\n",
      "\n",
      "Short Introduction:\n",
      "Experience a luxurious stay at The Bailey's Hotel London Kensington, a charming 4-star hotel in the heart of fashionable South Kensington. With a fusion of British and Asian heritage, this Victorian-era townhouse offers stylish boutique rooms, modern amenities, and exceptional dining options.\n",
      "\n",
      "Main Hotel Introduction:\n",
      "The Bailey's Hotel London Kensington exudes charm and sophistication, blending Victorian grandeur with modern amenities. The hotel offers a stylish and welcoming atmosphere for guests to relax and unwind, with elegant decor and attentive service creating a memorable experience.\n",
      "\n",
      "Location:\n",
      "Located in South Kensington, The Bailey's Hotel London Kensington is within walking distance to popular attractions and shopping areas. Guests can easily explore the vibrant neighborhood and enjoy the convenience of the hotel's prime location.\n",
      "\n",
      "Room Intro:\n",
      "The rooms at The Bailey's Hotel London Kensington are elegantly appointed with en suite bathrooms, air conditioning, and complimentary Wi-Fi. Guests can choose from a variety of room options to suit their preferences and enjoy a comfortable and relaxing stay in the heart of South Kensington.\n",
      "\n",
      "Food & Drink:\n",
      "Indulge in a culinary journey at The Bailey's Hotel London Kensington, with dining options ranging from authentic Singaporean dishes at The Bugis Singapore Restaurant to traditional British afternoon tea. Guests can also enjoy drinks at Bailey's Bar for a complete dining experience.\n",
      "\n",
      "Facilities and Activities:\n",
      "The hotel offers a range of facilities and activities, including a gym, concierge services, and meeting facilities. Guests can also enjoy the unique Baileys Afternoon Tea Experience and take advantage of the hotel's convenient location for exploring the city.\n"
     ]
    }
   ],
   "source": [
    "print(summarized_text_3)"
   ]
  },
  {
   "cell_type": "code",
   "execution_count": 43,
   "id": "924d77cc-587d-4c1e-8dd6-ab02876bd98c",
   "metadata": {},
   "outputs": [],
   "source": [
    "# sumarised audley guidelines"
   ]
  },
  {
   "cell_type": "code",
   "execution_count": 56,
   "id": "29aa5fa6-db36-49b6-86b7-48675f762362",
   "metadata": {},
   "outputs": [],
   "source": [
    "# Map\n",
    "map_template = \"\"\"\n",
    "You are a content writer for a tour operator who is writing a hotel summary to go on our website.\n",
    "The following is a set of documents from the hotel website\n",
    "{docs}\n",
    "Based on this list of docs, summaries the docs based on the following categories: \n",
    "- Sentence on location (lakefront, mountain views, centre of town, close to attractions?)\n",
    "- Comment on style of property (small B&B, large international hotel, rustic,modern?)\n",
    "- Details of facilities (room types, restaurant, gym, spa etc?)\n",
    "- Anything else to note?\n",
    "Not every docment will contain the information we require, it such a case do not return a summary.\n",
    "Helpful Answer:\"\"\"\n",
    "map_prompt = PromptTemplate.from_template(map_template)\n",
    "map_chain = LLMChain(llm=llm, prompt=map_prompt)"
   ]
  },
  {
   "cell_type": "code",
   "execution_count": 57,
   "id": "20b4a750-68b1-4bdb-9bd5-07624fff3f9f",
   "metadata": {},
   "outputs": [],
   "source": [
    "# Reduce\n",
    "reduce_template = \"\"\"\n",
    "You are a content writer for a tour operator who is writing a hotel summary to go on our website.\n",
    "The following is set of summaries of each webpage from a hotels website:\n",
    "{docs}\n",
    "Take these and distill it into a final summary including each of the main themes:\n",
    "- Sentence on location (lakefront, mountain views, centre of town, close to attractions?)\n",
    "- Comment on style of property (small B&B, large international hotel, rustic,modern?)\n",
    "- Details of facilities (room types, restaurant, gym, spa etc?)\n",
    "- Anything else to note? \n",
    "Helpful Answer:\"\"\"\n",
    "reduce_prompt = PromptTemplate.from_template(reduce_template)"
   ]
  },
  {
   "cell_type": "code",
   "execution_count": 58,
   "id": "e9dd1ed2-2a26-456f-81d3-cbe71f774dc3",
   "metadata": {},
   "outputs": [],
   "source": [
    "# Run chain\n",
    "reduce_chain = LLMChain(llm=llm, prompt=reduce_prompt)\n",
    "\n",
    "# Takes a list of documents, combines them into a single string, and passes this to an LLMChain\n",
    "combine_documents_chain = StuffDocumentsChain(\n",
    "    llm_chain=reduce_chain, document_variable_name=\"docs\"\n",
    ")\n",
    "\n",
    "# Combines and iteratively reduces the mapped documents\n",
    "reduce_documents_chain = ReduceDocumentsChain(\n",
    "    # This is final chain that is called.\n",
    "    combine_documents_chain=combine_documents_chain,\n",
    "    # If documents exceed context for `StuffDocumentsChain`\n",
    "    collapse_documents_chain=combine_documents_chain,\n",
    "    # The maximum number of tokens to group documents into.\n",
    "    token_max=4000,\n",
    ")"
   ]
  },
  {
   "cell_type": "code",
   "execution_count": 59,
   "id": "1067a5a8-8a81-4f66-859e-39f5155c2819",
   "metadata": {},
   "outputs": [],
   "source": [
    "# Combining documents by mapping a chain over them, then combining results\n",
    "map_reduce_chain = MapReduceDocumentsChain(\n",
    "    # Map chain\n",
    "    llm_chain=map_chain,\n",
    "    # Reduce chain\n",
    "    reduce_documents_chain=reduce_documents_chain,\n",
    "    # The variable name in the llm_chain to put the documents in\n",
    "    document_variable_name=\"docs\",\n",
    "    # Return the results of the map steps in the output\n",
    "    return_intermediate_steps=False,\n",
    ")"
   ]
  },
  {
   "cell_type": "code",
   "execution_count": 60,
   "id": "072e2f96-4c7a-4dcd-a3c9-fb5ac9a94956",
   "metadata": {},
   "outputs": [
    {
     "name": "stdout",
     "output_type": "stream",
     "text": [
      "The Bailey's Hotel London Kensington is ideally located in the heart of South Kensington, offering easy access to popular attractions such as the Natural History Museum and Royal Albert Hall. This luxury hotel boasts a unique blend of British and Asian heritage, providing a premium lifestyle experience for guests. The property features a variety of stylish boutique rooms, including luxury family rooms, studio suites, and signature suites. Guests can indulge in authentic Singaporean, Indian, and British cuisine at the hotel's four restaurants, including the Bugis Singapore Restaurant and Bombay Brasserie. Additional facilities include a gym, multilingual staff, room service, and meetings and events facilities. The hotel also offers a refined afternoon tea experience and a frequent flyer program for added benefits. With its distinctive luxury and premium services, The Bailey's Hotel aims to provide a welcoming atmosphere for guests seeking a comfortable and memorable stay in London.\n"
     ]
    }
   ],
   "source": [
    "summarized_text_4 = map_reduce_chain.run(new_docs)\n",
    "print(summarized_text_4)"
   ]
  },
  {
   "cell_type": "code",
   "execution_count": null,
   "id": "819a79b1-76f4-482c-bd0b-cf17fac17971",
   "metadata": {},
   "outputs": [],
   "source": []
  }
 ],
 "metadata": {
  "kernelspec": {
   "display_name": "Python 3 (ipykernel)",
   "language": "python",
   "name": "python3"
  },
  "language_info": {
   "codemirror_mode": {
    "name": "ipython",
    "version": 3
   },
   "file_extension": ".py",
   "mimetype": "text/x-python",
   "name": "python",
   "nbconvert_exporter": "python",
   "pygments_lexer": "ipython3",
   "version": "3.10.6"
  }
 },
 "nbformat": 4,
 "nbformat_minor": 5
}
