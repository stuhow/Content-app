{
 "cells": [
  {
   "cell_type": "code",
   "execution_count": 2,
   "id": "8340abe4-15fb-47cc-9105-51ffdcd5054d",
   "metadata": {},
   "outputs": [
    {
     "name": "stdout",
     "output_type": "stream",
     "text": [
      "43\n"
     ]
    }
   ],
   "source": [
    "from  langchain.schema import Document\n",
    "import json\n",
    "from typing import Iterable\n",
    "\n",
    "def load_docs_from_jsonl(file_path)->Iterable[Document]:\n",
    "    array = []\n",
    "    with open(file_path, 'r') as jsonl_file:\n",
    "        for line in jsonl_file:\n",
    "            data = json.loads(line)\n",
    "            obj = Document(**data)\n",
    "            array.append(obj)\n",
    "    return array\n",
    "\n",
    "\n",
    "documents=load_docs_from_jsonl('data.jsonl')\n",
    "print(len(documents))"
   ]
  },
  {
   "cell_type": "code",
   "execution_count": 3,
   "id": "941cdb6d-1191-4464-9432-8be55de43401",
   "metadata": {},
   "outputs": [],
   "source": [
    "import re\n",
    "# Remove 2 or more consecutive \\n with a single \\n in each document\n",
    "for doc in documents:\n",
    "    doc.page_content = re.sub(r'\\n{3,}', '\\n\\n\\n', doc.page_content)\n",
    "\n",
    "# Remove 2 or more consecutive \\n with a single \\n in each document\n",
    "for doc in documents:\n",
    "    doc.page_content = re.sub(r'\\t{3,}', '\\t\\t\\t', doc.page_content)\n",
    "\n",
    "for doc in documents:\n",
    "    doc.page_content = re.sub(r'\\s{3,}', '   ', doc.page_content)"
   ]
  },
  {
   "cell_type": "code",
   "execution_count": 4,
   "id": "1e42ef2e-9291-435e-8a1c-acbba789fb52",
   "metadata": {},
   "outputs": [],
   "source": [
    "from dotenv import load_dotenv\n",
    "import os\n",
    "\n",
    "# Load the environment variables from the .env file\n",
    "load_dotenv()\n",
    "\n",
    "# Access environment variables\n",
    "api_key = os.getenv(\"OPENAI_KEY\")"
   ]
  },
  {
   "cell_type": "code",
   "execution_count": 8,
   "id": "887b02ef-46d8-412c-9d4a-52804fdfefb7",
   "metadata": {},
   "outputs": [],
   "source": [
    "from langchain.chains import MapReduceDocumentsChain, ReduceDocumentsChain\n",
    "from langchain.text_splitter import CharacterTextSplitter\n",
    "from langchain.chains.combine_documents.stuff import StuffDocumentsChain\n",
    "from langchain.chains.llm import LLMChain\n",
    "from langchain.prompts import PromptTemplate\n",
    "from langchain_openai import ChatOpenAI\n",
    "\n",
    "llm = ChatOpenAI(temperature=0, model_name=\"gpt-3.5-turbo-16k\")"
   ]
  },
  {
   "cell_type": "code",
   "execution_count": 19,
   "id": "e70ab36c-95fa-4a19-afdf-89b5f60e655d",
   "metadata": {},
   "outputs": [],
   "source": [
    "# Map\n",
    "map_template = \"\"\"\n",
    "You are a content writer for a tour operator who is writing a hotel summary to go on our website.\n",
    "The following is a set of documents from the hotel website\n",
    "{docs}\n",
    "Based on this list of docs, summaries the docs based on the following category: \n",
    "- A paragraph on room categories (include all room category names, style and confirm the following room facilities/amenities: en suite bathroom (but not bath v shower); air conditioning; Wi-Fi\n",
    "Not every docment will contain the information we require, it such a case do not return a summary.\n",
    "Helpful Answer:\"\"\"\n",
    "map_prompt = PromptTemplate.from_template(map_template)\n",
    "map_chain = LLMChain(llm=llm, prompt=map_prompt)"
   ]
  },
  {
   "cell_type": "code",
   "execution_count": 20,
   "id": "b047ed11-5343-4b9c-811b-03b1d42b3c4c",
   "metadata": {},
   "outputs": [],
   "source": [
    "# Reduce\n",
    "reduce_template = \"\"\"\n",
    "You are a content writer for a tour operator who is writing a hotel summary to go on our website.\n",
    "The following is set of summaries of each webpage from a hotels website:\n",
    "{docs}\n",
    "Take these and distill it into a final summary following the main theme:\n",
    "- A paragraph on room categories (include all room category names, style and confirm the following room facilities/amenities: en suite bathroom (but not bath v shower); air conditioning; Wi-Fi\n",
    "Helpful Answer:\"\"\"\n",
    "reduce_prompt = PromptTemplate.from_template(reduce_template)"
   ]
  },
  {
   "cell_type": "code",
   "execution_count": 21,
   "id": "c076cbd0-5a14-4b81-a4a2-ab15778a5792",
   "metadata": {},
   "outputs": [],
   "source": [
    "# Run chain\n",
    "reduce_chain = LLMChain(llm=llm, prompt=reduce_prompt)\n",
    "\n",
    "# Takes a list of documents, combines them into a single string, and passes this to an LLMChain\n",
    "combine_documents_chain = StuffDocumentsChain(\n",
    "    llm_chain=reduce_chain, document_variable_name=\"docs\"\n",
    ")\n",
    "\n",
    "# Combines and iteratively reduces the mapped documents\n",
    "reduce_documents_chain = ReduceDocumentsChain(\n",
    "    # This is final chain that is called.\n",
    "    combine_documents_chain=combine_documents_chain,\n",
    "    # If documents exceed context for `StuffDocumentsChain`\n",
    "    collapse_documents_chain=combine_documents_chain,\n",
    "    # The maximum number of tokens to group documents into.\n",
    "    token_max=4000,\n",
    ")"
   ]
  },
  {
   "cell_type": "code",
   "execution_count": 22,
   "id": "0962133e-4e6a-4343-bad0-2d971f7195c7",
   "metadata": {},
   "outputs": [],
   "source": [
    "# Combining documents by mapping a chain over them, then combining results\n",
    "map_reduce_chain = MapReduceDocumentsChain(\n",
    "    # Map chain\n",
    "    llm_chain=map_chain,\n",
    "    # Reduce chain\n",
    "    reduce_documents_chain=reduce_documents_chain,\n",
    "    # The variable name in the llm_chain to put the documents in\n",
    "    document_variable_name=\"docs\",\n",
    "    # Return the results of the map steps in the output\n",
    "    return_intermediate_steps=False,\n",
    ")"
   ]
  },
  {
   "cell_type": "code",
   "execution_count": 23,
   "id": "bd6aaf75-166e-4959-9dd3-d09172423349",
   "metadata": {},
   "outputs": [
    {
     "name": "stdout",
     "output_type": "stream",
     "text": [
      "The Langham Hotels and Resorts offer a variety of stylish and refined room categories, including Rooms, Club Rooms, and Suites. Each room is designed with a blend of modern conveniences and timeless elegance. All rooms come with en suite bathrooms, air conditioning, and Wi-Fi facilities. Please note that specific information about room styles and amenities may vary by location, so it is recommended to visit the hotel's website or contact their reservations team for more details.\n"
     ]
    }
   ],
   "source": [
    "summarized_text = map_reduce_chain.run(documents)\n",
    "print(summarized_text)"
   ]
  },
  {
   "cell_type": "code",
   "execution_count": null,
   "id": "5b8cb092-d196-4ebd-b192-b876741c0ddd",
   "metadata": {},
   "outputs": [],
   "source": []
  }
 ],
 "metadata": {
  "kernelspec": {
   "display_name": "Python 3 (ipykernel)",
   "language": "python",
   "name": "python3"
  },
  "language_info": {
   "codemirror_mode": {
    "name": "ipython",
    "version": 3
   },
   "file_extension": ".py",
   "mimetype": "text/x-python",
   "name": "python",
   "nbconvert_exporter": "python",
   "pygments_lexer": "ipython3",
   "version": "3.10.6"
  }
 },
 "nbformat": 4,
 "nbformat_minor": 5
}
