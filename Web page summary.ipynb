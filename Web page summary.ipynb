{
 "cells": [
  {
   "cell_type": "code",
   "execution_count": 2,
   "id": "09cd344b-d086-4f47-b8b1-c923a7bce470",
   "metadata": {},
   "outputs": [],
   "source": [
    "from langchain_community.document_loaders.recursive_url_loader import RecursiveUrlLoader"
   ]
  },
  {
   "cell_type": "code",
   "execution_count": null,
   "id": "1d743702-4216-4f7d-81c2-2d400650920e",
   "metadata": {},
   "outputs": [],
   "source": []
  },
  {
   "cell_type": "code",
   "execution_count": 17,
   "id": "c50b8e65-40e4-4c1e-90f4-c248c08622b3",
   "metadata": {},
   "outputs": [],
   "source": [
    "from bs4 import BeautifulSoup as Soup\n",
    "\n",
    "url = \"https://docs.python.org/3.9/\"\n",
    "loader = RecursiveUrlLoader(\n",
    "    url=url, max_depth=2, extractor=lambda x: Soup(x, \"html.parser\").text\n",
    ")\n",
    "docs = loader.load()"
   ]
  },
  {
   "cell_type": "code",
   "execution_count": 20,
   "id": "e5d0e4e5-102f-49bd-bc3b-7457ed78b7d9",
   "metadata": {},
   "outputs": [
    {
     "data": {
      "text/plain": [
       "Document(page_content='\\n\\n\\n\\n3.9.18 Documentation\\n\\n\\n\\n\\n\\n\\n\\n\\n\\n\\n\\n\\n\\n\\n\\n\\n\\n\\n\\n\\n\\n\\n\\n\\n\\n\\n\\n\\n\\n\\n\\n\\n\\n\\n\\n\\n\\n\\n\\n\\n\\n\\n\\n\\n\\n\\n\\n    Theme\\n    \\nAuto\\nLight\\nDark\\n\\n\\nDownload\\nDownload these documents\\nDocs by version\\n\\nPython 3.13 (in development)\\nPython 3.12 (stable)\\nPython 3.11 (stable)\\nPython 3.10 (security-fixes)\\nPython 3.9 (security-fixes)\\nPython 3.8 (security-fixes)\\nPython 3.7 (EOL)\\nPython 3.6 (EOL)\\nPython 3.5 (EOL)\\nPython 3.4 (EOL)\\nPython 3.3 (EOL)\\nPython 3.2 (EOL)\\nPython 3.1 (EOL)\\nPython 3.0 (EOL)\\nPython 2.7 (EOL)\\nPython 2.6 (EOL)\\nAll versions\\n\\nOther resources\\n\\nPEP Index\\nBeginner\\'s Guide\\nBook List\\nAudio/Visual Talks\\nPython Developerâ\\x80\\x99s Guide\\n\\n\\n\\n\\n\\nNavigation\\n\\n\\nindex\\n\\nmodules |\\n\\nPython »\\n\\n\\n\\n\\n\\n\\n\\n3.9.18 Documentation »\\n    \\n\\n\\n\\n\\n\\n\\n\\n                     |\\n                \\n\\n\\n    Theme\\n    \\nAuto\\nLight\\nDark\\n\\n |\\n\\n\\n\\n\\n\\n\\nPython 3.9.18 documentation\\n\\n  Welcome! This is the official documentation for Python 3.9.18.\\n  \\nParts of the documentation:\\n\\n\\nWhat\\'s new in Python 3.9?\\n or all \"What\\'s new\" documents since 2.0\\nTutorial\\nstart here\\nLibrary Reference\\nkeep this under your pillow\\nLanguage Reference\\ndescribes syntax and language elements\\nPython Setup and Usage\\nhow to use Python on different platforms\\nPython HOWTOs\\nin-depth documents on specific topics\\n\\nInstalling Python Modules\\ninstalling from the Python Package Index & other sources\\nDistributing Python Modules\\npublishing modules for installation by others\\nExtending and Embedding\\ntutorial for C/C++ programmers\\nPython/C API\\nreference for C/C++ programmers\\nFAQs\\nfrequently asked questions (with answers!)\\n\\n\\nIndices and tables:\\n\\n\\nGlobal Module Index\\nquick access to all modules\\nGeneral Index\\nall functions, classes, terms\\nGlossary\\nthe most important terms explained\\n\\nSearch page\\nsearch this documentation\\nComplete Table of Contents\\nlists all sections and subsections\\n\\n\\nMeta information:\\n\\n\\nReporting bugs\\nContributing to Docs\\nAbout the documentation\\n\\nHistory and License of Python\\nCopyright\\n\\n\\n\\n\\n\\n\\n\\nDownload\\nDownload these documents\\nDocs by version\\n\\nPython 3.13 (in development)\\nPython 3.12 (stable)\\nPython 3.11 (stable)\\nPython 3.10 (security-fixes)\\nPython 3.9 (security-fixes)\\nPython 3.8 (security-fixes)\\nPython 3.7 (EOL)\\nPython 3.6 (EOL)\\nPython 3.5 (EOL)\\nPython 3.4 (EOL)\\nPython 3.3 (EOL)\\nPython 3.2 (EOL)\\nPython 3.1 (EOL)\\nPython 3.0 (EOL)\\nPython 2.7 (EOL)\\nPython 2.6 (EOL)\\nAll versions\\n\\nOther resources\\n\\nPEP Index\\nBeginner\\'s Guide\\nBook List\\nAudio/Visual Talks\\nPython Developerâ\\x80\\x99s Guide\\n\\n\\n\\n\\n\\n\\nNavigation\\n\\n\\nindex\\n\\nmodules |\\n\\nPython »\\n\\n\\n\\n\\n\\n\\n\\n3.9.18 Documentation »\\n    \\n\\n\\n\\n\\n\\n\\n\\n                     |\\n                \\n\\n\\n    Theme\\n    \\nAuto\\nLight\\nDark\\n\\n |\\n\\n\\n\\n    © Copyright 2001-2024, Python Software Foundation.\\n    \\n    This page is licensed under the Python Software Foundation License Version 2.\\n    \\n    Examples, recipes, and other code in the documentation are additionally licensed under the Zero Clause BSD License.\\n    \\n    See History and License for more information.\\n\\n\\n    The Python Software Foundation is a non-profit corporation.\\nPlease donate.\\n\\n\\n\\n    Last updated on Feb 07, 2024.\\n    Found a bug?\\n    \\n\\n    Created using Sphinx 2.4.4.\\n    \\n\\n\\n', metadata={'source': 'https://docs.python.org/3.9/', 'title': '3.9.18 Documentation', 'language': None})"
      ]
     },
     "execution_count": 20,
     "metadata": {},
     "output_type": "execute_result"
    }
   ],
   "source": [
    "docs[0]"
   ]
  },
  {
   "cell_type": "code",
   "execution_count": 12,
   "id": "1a5bea5a-d7d0-4754-9d8a-fe16f85c825c",
   "metadata": {},
   "outputs": [],
   "source": [
    "# url = \"https://parkhoteltokyo.com/\"\n",
    "# url = \"https://www.ugaescapes.com/chenahuts/\"\n",
    "# loader = RecursiveUrlLoader(\n",
    "#     url=url, max_depth=2, extractor=lambda x: Soup(x, \"html.parser\").text\n",
    "# )\n",
    "# docs = loader.load()"
   ]
  },
  {
   "cell_type": "code",
   "execution_count": 22,
   "id": "488e7457-3c1c-4c75-acd8-3d9de3b8670e",
   "metadata": {},
   "outputs": [],
   "source": [
    "from dotenv import load_dotenv\n",
    "import os\n",
    "\n",
    "# Load the environment variables from the .env file\n",
    "load_dotenv()\n",
    "\n",
    "# Access environment variables\n",
    "api_key = os.getenv(\"OPENAI_KEY\")"
   ]
  },
  {
   "cell_type": "code",
   "execution_count": 26,
   "id": "2c50152f-301f-4cbd-9cf9-42e0a7cb808c",
   "metadata": {},
   "outputs": [
    {
     "name": "stderr",
     "output_type": "stream",
     "text": [
      "/home/stuart/.pyenv/versions/3.10.6/lib/python3.10/html/parser.py:170: XMLParsedAsHTMLWarning: It looks like you're parsing an XML document using an HTML parser. If this really is an HTML document (maybe it's XHTML?), you can ignore or filter this warning. If it's XML, you should know that using an XML parser will be more reliable. To parse this document as XML, make sure you have the lxml package installed, and pass the keyword argument `features=\"xml\"` into the BeautifulSoup constructor.\n",
      "  k = self.parse_starttag(i)\n",
      "/home/stuart/.pyenv/versions/3.10.6/envs/content_app/lib/python3.10/site-packages/langchain_core/_api/deprecation.py:117: LangChainDeprecationWarning: The function `run` was deprecated in LangChain 0.1.0 and will be removed in 0.2.0. Use invoke instead.\n",
      "  warn_deprecated(\n"
     ]
    },
    {
     "name": "stdout",
     "output_type": "stream",
     "text": [
      "This is the official documentation for Python 3.9.18. It includes information on what's new in Python 3.9, tutorials, library references, language references, Python setup and usage, Python HOWTOs, installing and distributing Python modules, extending and embedding Python, FAQs, and more. The documentation is organized into sections and subsections, and there are indices and tables for quick access. Users can also download documentation for different Python versions. The documentation is licensed under the Python Software Foundation License Version 2.\n"
     ]
    }
   ],
   "source": [
    "from langchain.chains.combine_documents.stuff import StuffDocumentsChain\n",
    "from langchain.chains.llm import LLMChain\n",
    "from langchain.prompts import PromptTemplate\n",
    "from langchain_openai import ChatOpenAI\n",
    "\n",
    "# Define prompt\n",
    "prompt_template = \"\"\"Write a concise summary of the following:\n",
    "\"{text}\"\n",
    "CONCISE SUMMARY:\"\"\"\n",
    "prompt = PromptTemplate.from_template(prompt_template)\n",
    "\n",
    "# Define LLM chain\n",
    "llm = ChatOpenAI(temperature=0, model_name=\"gpt-3.5-turbo-16k\")\n",
    "llm_chain = LLMChain(llm=llm, prompt=prompt)\n",
    "\n",
    "# Define StuffDocumentsChain\n",
    "stuff_chain = StuffDocumentsChain(llm_chain=llm_chain, document_variable_name=\"text\")\n",
    "\n",
    "docs = loader.load()\n",
    "print(stuff_chain.run(docs[:1]))"
   ]
  },
  {
   "cell_type": "code",
   "execution_count": 27,
   "id": "5073df1f-6bb8-4f8b-8877-2dd078b24d67",
   "metadata": {},
   "outputs": [
    {
     "data": {
      "text/plain": [
       "[Document(page_content='\\n\\n\\n\\n3.9.18 Documentation\\n\\n\\n\\n\\n\\n\\n\\n\\n\\n\\n\\n\\n\\n\\n\\n\\n\\n\\n\\n\\n\\n\\n\\n\\n\\n\\n\\n\\n\\n\\n\\n\\n\\n\\n\\n\\n\\n\\n\\n\\n\\n\\n\\n\\n\\n\\n\\n    Theme\\n    \\nAuto\\nLight\\nDark\\n\\n\\nDownload\\nDownload these documents\\nDocs by version\\n\\nPython 3.13 (in development)\\nPython 3.12 (stable)\\nPython 3.11 (stable)\\nPython 3.10 (security-fixes)\\nPython 3.9 (security-fixes)\\nPython 3.8 (security-fixes)\\nPython 3.7 (EOL)\\nPython 3.6 (EOL)\\nPython 3.5 (EOL)\\nPython 3.4 (EOL)\\nPython 3.3 (EOL)\\nPython 3.2 (EOL)\\nPython 3.1 (EOL)\\nPython 3.0 (EOL)\\nPython 2.7 (EOL)\\nPython 2.6 (EOL)\\nAll versions\\n\\nOther resources\\n\\nPEP Index\\nBeginner\\'s Guide\\nBook List\\nAudio/Visual Talks\\nPython Developerâ\\x80\\x99s Guide\\n\\n\\n\\n\\n\\nNavigation\\n\\n\\nindex\\n\\nmodules |\\n\\nPython »\\n\\n\\n\\n\\n\\n\\n\\n3.9.18 Documentation »\\n    \\n\\n\\n\\n\\n\\n\\n\\n                     |\\n                \\n\\n\\n    Theme\\n    \\nAuto\\nLight\\nDark\\n\\n |\\n\\n\\n\\n\\n\\n\\nPython 3.9.18 documentation\\n\\n  Welcome! This is the official documentation for Python 3.9.18.\\n  \\nParts of the documentation:\\n\\n\\nWhat\\'s new in Python 3.9?\\n or all \"What\\'s new\" documents since 2.0\\nTutorial\\nstart here\\nLibrary Reference\\nkeep this under your pillow\\nLanguage Reference\\ndescribes syntax and language elements\\nPython Setup and Usage\\nhow to use Python on different platforms\\nPython HOWTOs\\nin-depth documents on specific topics\\n\\nInstalling Python Modules\\ninstalling from the Python Package Index & other sources\\nDistributing Python Modules\\npublishing modules for installation by others\\nExtending and Embedding\\ntutorial for C/C++ programmers\\nPython/C API\\nreference for C/C++ programmers\\nFAQs\\nfrequently asked questions (with answers!)\\n\\n\\nIndices and tables:\\n\\n\\nGlobal Module Index\\nquick access to all modules\\nGeneral Index\\nall functions, classes, terms\\nGlossary\\nthe most important terms explained\\n\\nSearch page\\nsearch this documentation\\nComplete Table of Contents\\nlists all sections and subsections\\n\\n\\nMeta information:\\n\\n\\nReporting bugs\\nContributing to Docs\\nAbout the documentation\\n\\nHistory and License of Python\\nCopyright\\n\\n\\n\\n\\n\\n\\n\\nDownload\\nDownload these documents\\nDocs by version\\n\\nPython 3.13 (in development)\\nPython 3.12 (stable)\\nPython 3.11 (stable)\\nPython 3.10 (security-fixes)\\nPython 3.9 (security-fixes)\\nPython 3.8 (security-fixes)\\nPython 3.7 (EOL)\\nPython 3.6 (EOL)\\nPython 3.5 (EOL)\\nPython 3.4 (EOL)\\nPython 3.3 (EOL)\\nPython 3.2 (EOL)\\nPython 3.1 (EOL)\\nPython 3.0 (EOL)\\nPython 2.7 (EOL)\\nPython 2.6 (EOL)\\nAll versions\\n\\nOther resources\\n\\nPEP Index\\nBeginner\\'s Guide\\nBook List\\nAudio/Visual Talks\\nPython Developerâ\\x80\\x99s Guide\\n\\n\\n\\n\\n\\n\\nNavigation\\n\\n\\nindex\\n\\nmodules |\\n\\nPython »\\n\\n\\n\\n\\n\\n\\n\\n3.9.18 Documentation »\\n    \\n\\n\\n\\n\\n\\n\\n\\n                     |\\n                \\n\\n\\n    Theme\\n    \\nAuto\\nLight\\nDark\\n\\n |\\n\\n\\n\\n    © Copyright 2001-2024, Python Software Foundation.\\n    \\n    This page is licensed under the Python Software Foundation License Version 2.\\n    \\n    Examples, recipes, and other code in the documentation are additionally licensed under the Zero Clause BSD License.\\n    \\n    See History and License for more information.\\n\\n\\n    The Python Software Foundation is a non-profit corporation.\\nPlease donate.\\n\\n\\n\\n    Last updated on Feb 07, 2024.\\n    Found a bug?\\n    \\n\\n    Created using Sphinx 2.4.4.\\n    \\n\\n\\n', metadata={'source': 'https://docs.python.org/3.9/', 'title': '3.9.18 Documentation', 'language': None})]"
      ]
     },
     "execution_count": 27,
     "metadata": {},
     "output_type": "execute_result"
    }
   ],
   "source": [
    "docs[:1]"
   ]
  },
  {
   "cell_type": "code",
   "execution_count": null,
   "id": "bfc551dd-2b0a-4e56-955a-d454661fca0e",
   "metadata": {},
   "outputs": [],
   "source": []
  },
  {
   "cell_type": "code",
   "execution_count": null,
   "id": "2fa55aae-43b7-48d0-aca4-4dffc5d95125",
   "metadata": {},
   "outputs": [],
   "source": []
  }
 ],
 "metadata": {
  "kernelspec": {
   "display_name": "Python 3 (ipykernel)",
   "language": "python",
   "name": "python3"
  },
  "language_info": {
   "codemirror_mode": {
    "name": "ipython",
    "version": 3
   },
   "file_extension": ".py",
   "mimetype": "text/x-python",
   "name": "python",
   "nbconvert_exporter": "python",
   "pygments_lexer": "ipython3",
   "version": "3.10.6"
  }
 },
 "nbformat": 4,
 "nbformat_minor": 5
}
