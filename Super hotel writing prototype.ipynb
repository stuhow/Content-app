{
 "cells": [
  {
   "cell_type": "code",
   "execution_count": null,
   "id": "bd4733d9-5252-47cd-94fc-b12c09f1e035",
   "metadata": {},
   "outputs": [],
   "source": [
    "from langchain_community.document_loaders.recursive_url_loader import RecursiveUrlLoader\n",
    "from bs4 import BeautifulSoup as Soup"
   ]
  },
  {
   "cell_type": "code",
   "execution_count": null,
   "id": "f6d4aa23-4701-4112-b2d4-b6274aca5a51",
   "metadata": {},
   "outputs": [],
   "source": [
    "from dotenv import load_dotenv\n",
    "import os\n",
    "\n",
    "# Load the environment variables from the .env file\n",
    "load_dotenv()\n",
    "\n",
    "# Access environment variables\n",
    "api_key = os.getenv(\"OPENAI_KEY\")"
   ]
  },
  {
   "cell_type": "code",
   "execution_count": null,
   "id": "ca02e85a-b059-40bd-b4be-b4bc296c20bb",
   "metadata": {},
   "outputs": [],
   "source": [
    "url =\"https://www.anantara.com/en/al-baleed-salalah\"\n",
    "url =\"https://www.ghmhotels.com/en/muscat/\"\n",
    "url = \"https://www.hotelpalazzogiovanelli.com/\""
   ]
  },
  {
   "cell_type": "code",
   "execution_count": null,
   "id": "7cff3817-7ace-4c1c-ad62-48a85ec89be6",
   "metadata": {},
   "outputs": [],
   "source": [
    "headers = {\n",
    "    \"User-Agent\": \"Mozilla/5.0 (Windows NT 10.0; Win64; x64) AppleWebKit/537.36 (KHTML, like Gecko) Chrome/121.0.0.0 Safari/537.36\",\n",
    "    \"Accept-Language\": \"en-GB,en;q=0.5\",\n",
    "    \"Referer\": \"https://google.com\",\n",
    "    \"DNT\": \"1\"\n",
    "}"
   ]
  },
  {
   "cell_type": "code",
   "execution_count": null,
   "id": "30b6d08d-570b-4b3f-9567-84b32240501a",
   "metadata": {},
   "outputs": [],
   "source": [
    "loader = RecursiveUrlLoader(\n",
    "    url=url, max_depth=2, headers=headers, extractor=lambda x: Soup(x, \"html.parser\").text\n",
    ")\n",
    "documents = loader.load()"
   ]
  },
  {
   "cell_type": "code",
   "execution_count": null,
   "id": "ee8c3aee-477e-4fc9-b7b6-90c1fcd31c7a",
   "metadata": {},
   "outputs": [],
   "source": [
    "import re\n",
    "# Remove 2 or more consecutive \\n with a single \\n in each document\n",
    "for doc in documents:\n",
    "    doc.page_content = re.sub(r'\\n{2,}', '\\n', doc.page_content)\n",
    "\n",
    "# Remove 2 or more consecutive \\n with a single \\n in each document\n",
    "for doc in documents:\n",
    "    doc.page_content = re.sub(r'\\t{2,}', '\\t', doc.page_content)"
   ]
  },
  {
   "cell_type": "code",
   "execution_count": null,
   "id": "5e083804-6d79-4d98-b450-6d25d0c30dbb",
   "metadata": {},
   "outputs": [],
   "source": [
    "from langchain_community.vectorstores import FAISS\n",
    "from langchain_openai import OpenAIEmbeddings\n",
    "from langchain.text_splitter import CharacterTextSplitter\n",
    "\n",
    "text_splitter = CharacterTextSplitter(chunk_size=500, chunk_overlap=50)\n",
    "texts = text_splitter.split_documents(documents)\n",
    "embeddings = OpenAIEmbeddings(openai_api_key=api_key)\n",
    "db = FAISS.from_documents(texts, embeddings)"
   ]
  },
  {
   "cell_type": "code",
   "execution_count": null,
   "id": "6683b5e7-eb9c-49ee-9a29-8e424c5a9eee",
   "metadata": {},
   "outputs": [],
   "source": [
    "# retriever = db.as_retriever()"
   ]
  },
  {
   "cell_type": "code",
   "execution_count": null,
   "id": "5e8d847e-a953-4c38-8285-2fc590a38631",
   "metadata": {},
   "outputs": [],
   "source": [
    "retriever = db.as_retriever(search_type=\"mmr\")"
   ]
  },
  {
   "cell_type": "code",
   "execution_count": null,
   "id": "a5eb129c-c3f4-49c0-964f-0027e99f996b",
   "metadata": {},
   "outputs": [],
   "source": [
    "# retriever = db.as_retriever(search_kwargs={\"k\": 1})"
   ]
  },
  {
   "cell_type": "code",
   "execution_count": null,
   "id": "55664fd4-a388-460d-adb6-bfc408e5dfce",
   "metadata": {},
   "outputs": [],
   "source": [
    "# 1. hotel name"
   ]
  },
  {
   "cell_type": "code",
   "execution_count": null,
   "id": "e161a6f2-5601-47fb-9377-79dda67b74b2",
   "metadata": {},
   "outputs": [],
   "source": [
    "from langchain.chains.combine_documents.stuff import StuffDocumentsChain\n",
    "from langchain.chains.llm import LLMChain\n",
    "from langchain.prompts import PromptTemplate\n",
    "from langchain_openai import ChatOpenAI\n",
    "\n",
    "docs = retriever.get_relevant_documents(\"Hotel name\")\n",
    "\n",
    "# Define prompt\n",
    "prompt_template = \"\"\"What is the name of the hotel:\n",
    "\"{text}\"\n",
    "Return only the hotel name:\"\"\"\n",
    "prompt = PromptTemplate.from_template(prompt_template)\n",
    "\n",
    "# Define LLM chain\n",
    "llm = ChatOpenAI(temperature=0, model_name=\"gpt-3.5-turbo-16k\")\n",
    "llm_chain = LLMChain(llm=llm, prompt=prompt)\n",
    "\n",
    "# Define StuffDocumentsChain\n",
    "stuff_chain = StuffDocumentsChain(llm_chain=llm_chain, document_variable_name=\"text\")\n",
    "\n",
    "print(stuff_chain.run(docs))"
   ]
  },
  {
   "cell_type": "code",
   "execution_count": null,
   "id": "8ef7eb03-2fd5-46ef-b04c-db8f92cf3313",
   "metadata": {},
   "outputs": [],
   "source": [
    "\n",
    "\n",
    "from typing import Optional\n",
    "\n",
    "from langchain.chains import create_structured_output_runnable\n",
    "from langchain_core.pydantic_v1 import BaseModel\n",
    "from langchain_openai import ChatOpenAI\n",
    "\n",
    "class Hotel(BaseModel):\n",
    "    hotel_name: str\n",
    "\n",
    "\n",
    "# llm = ChatOpenAI(model=\"gpt-4-0125-preview\", temperature=0)\n",
    "llm = ChatOpenAI(temperature=0, model_name=\"gpt-3.5-turbo-16k\")\n",
    "runnable = create_structured_output_runnable(Hotel, llm)\n",
    "\n",
    "hotel_name = runnable.invoke(documents[0].page_content)"
   ]
  },
  {
   "cell_type": "code",
   "execution_count": null,
   "id": "ae870343-b058-42f2-bac6-74caeb028f93",
   "metadata": {},
   "outputs": [],
   "source": [
    "hotel_name.hotel_name"
   ]
  },
  {
   "cell_type": "code",
   "execution_count": null,
   "id": "98e5fac2-542e-4670-abc9-b2171da419d5",
   "metadata": {},
   "outputs": [],
   "source": [
    "# Define prompt\n",
    "prompt_template = \"\"\"What is the name of the hotel:\n",
    "\"{text}\"\n",
    "Return only the hotel name:\"\"\"\n",
    "prompt = PromptTemplate.from_template(prompt_template)\n",
    "\n",
    "# Define LLM chain\n",
    "llm = ChatOpenAI(temperature=0, model_name=\"gpt-3.5-turbo-16k\")\n",
    "llm_chain = LLMChain(llm=llm, prompt=prompt)\n",
    "\n",
    "# Define StuffDocumentsChain\n",
    "stuff_chain = StuffDocumentsChain(llm_chain=llm_chain, document_variable_name=\"text\")\n",
    "\n",
    "print(stuff_chain.run(documents[:1]))"
   ]
  },
  {
   "cell_type": "code",
   "execution_count": null,
   "id": "2e51cceb-0c4e-4739-b239-d2595dfe8291",
   "metadata": {},
   "outputs": [],
   "source": [
    "# 2. Short introduction"
   ]
  },
  {
   "cell_type": "code",
   "execution_count": null,
   "id": "da8a3d54-ecf5-4e4b-844d-610f57a177ce",
   "metadata": {},
   "outputs": [],
   "source": [
    "short = \"Short introduction - The purpose of this short introduction is to explain succinctly why we’d recommend this hotel: why have we hand-picked it? It should highlight the main benefits of staying at the hotel.\"\n",
    "docs = retriever.get_relevant_documents(short)\n",
    "# Define prompt\n",
    "prompt_template = \"\"\" Write a short introduction of the hotel using the following guidelines and relevant text from the hotel website.\n",
    "Word couunt for short introduction: ~ 30 - 40 words\n",
    "The purpose of this short introduction is to explain succinctly why we’d recommend this hotel: why have we hand-picked it? It should highlight the main benefits of staying at the hotel. \n",
    "Tip:  Avoid time-sensitive references that could soon become out- of-date, for example ‘brand -new hotel’. \n",
    "\"{text}\"\n",
    "Helpful answer:\"\"\"\n",
    "prompt = PromptTemplate.from_template(prompt_template)\n",
    "\n",
    "# Define LLM chain\n",
    "llm = ChatOpenAI(temperature=0, model_name=\"gpt-3.5-turbo-16k\")\n",
    "llm_chain = LLMChain(llm=llm, prompt=prompt)\n",
    "\n",
    "# Define StuffDocumentsChain\n",
    "stuff_chain = StuffDocumentsChain(llm_chain=llm_chain, document_variable_name=\"text\")\n",
    "\n",
    "print(stuff_chain.run(docs))"
   ]
  },
  {
   "cell_type": "code",
   "execution_count": null,
   "id": "f52c58f2-095e-4f6a-8680-98ba6059a48d",
   "metadata": {},
   "outputs": [],
   "source": [
    "texts[0].page_content"
   ]
  },
  {
   "cell_type": "code",
   "execution_count": null,
   "id": "a576a612-d176-41b0-9ace-0c221fe81b5c",
   "metadata": {},
   "outputs": [],
   "source": [
    "# 3. Main hotel introduction"
   ]
  },
  {
   "cell_type": "code",
   "execution_count": null,
   "id": "da3acfbc-fa8d-45aa-a401-97c72d71f2bb",
   "metadata": {},
   "outputs": [],
   "source": [
    "long = \"Main Hotel introduction - This wording for is the starting paragraphs of the main body text about the hotel. It expands on the reasons why we’ve chosen this hotel, which the short intro touches upon. It elaborates on the style and feel of the hotel, rather than specific features, which are liable to change. It can include any information that is essential for documentation.\"\n",
    "docs = retriever.get_relevant_documents(long)\n",
    "\n",
    "# Define prompt\n",
    "prompt_template = \"\"\" You are a content writer for a tour operator writing hotel descriptions for our own website, not the hotels.\n",
    "Write the Main Hotel introduction of the hotel using the following guidelines and relevant text from the hotel website.\n",
    "This wording for is the starting paragraphs of the main body text about the hotel. It expands on the reasons why we’ve chosen this hotel, which the short intro touches upon. It elaborates on the style and feel of the hotel, rather than specific features, which are liable to change. It can include any information that is essential for documentation.     \n",
    "Tip: Don’t get too specific as details can change, for example avoid referencing the number of rooms\n",
    "\"{text}\"\n",
    "Helpful answer:\"\"\"\n",
    "prompt = PromptTemplate.from_template(prompt_template)\n",
    "\n",
    "# Define LLM chain\n",
    "llm = ChatOpenAI(temperature=0, model_name=\"gpt-3.5-turbo-16k\")\n",
    "llm_chain = LLMChain(llm=llm, prompt=prompt)\n",
    "\n",
    "# Define StuffDocumentsChain\n",
    "stuff_chain = StuffDocumentsChain(llm_chain=llm_chain, document_variable_name=\"text\")\n",
    "\n",
    "print(stuff_chain.run(docs))"
   ]
  },
  {
   "cell_type": "code",
   "execution_count": null,
   "id": "aae25f18-c6af-45ff-b981-44dea827de2d",
   "metadata": {},
   "outputs": [],
   "source": [
    "# 4. Location"
   ]
  },
  {
   "cell_type": "code",
   "execution_count": null,
   "id": "3668ee6f-98b2-4058-87b9-40056afe5ae8",
   "metadata": {},
   "outputs": [],
   "source": [
    "loctation = \"Location - This section focuses on the benefits of the location but also makes the reader aware of any pragmatic considerations. It can mention nearby attractions or the nearest areas for eating and hopping, and how long it takes to reach them.\"\n",
    "docs = retriever.get_relevant_documents(loctation)\n",
    "\n",
    "# Define prompt\n",
    "prompt_template = \"\"\" Write a summary of a hotels location using the following guidelines and relevant text from the hotel website.\n",
    "Word count for location: ~ 60 words\n",
    "This section focuses on the benefits of the location but also makes the reader aware of any pragmatic considerations. It can mention nearby attractions or the nearest areas for eating and hopping, and how long i t takes t o reach them.:\n",
    "\"{text}\"\n",
    "Helpful answer:\"\"\"\n",
    "prompt = PromptTemplate.from_template(prompt_template)\n",
    "\n",
    "# Define LLM chain\n",
    "llm = ChatOpenAI(temperature=0, model_name=\"gpt-3.5-turbo-16k\")\n",
    "llm_chain = LLMChain(llm=llm, prompt=prompt)\n",
    "\n",
    "# Define StuffDocumentsChain\n",
    "stuff_chain = StuffDocumentsChain(llm_chain=llm_chain, document_variable_name=\"text\")\n",
    "\n",
    "print(stuff_chain.run(texts))"
   ]
  },
  {
   "cell_type": "code",
   "execution_count": null,
   "id": "a13e7552-5b9f-4655-a10f-280d8cfd48a2",
   "metadata": {},
   "outputs": [],
   "source": [
    "# 5. Room intro"
   ]
  },
  {
   "cell_type": "code",
   "execution_count": null,
   "id": "bc8fbe27-8baa-47c0-b0d6-8f777fe24a13",
   "metadata": {},
   "outputs": [],
   "source": [
    "\n",
    "room_intro = \"Room intro - An easy-reference section that displays  the top-level details on the room choices of the hotel. It shouldn’t  drill into too much detail, to save  the information becoming out of date, but aim to provide the most important features. Confirm the following room  facilities/amenities: en suite bathroom (but not bath v shower); air conditioning; Wi-Fi.\"\n",
    "docs = retriever.get_relevant_documents(room_intro)\n",
    "\n",
    "# Define prompt\n",
    "prompt_template = \"\"\" Write a summary of a hotels room choices using the following guidelines and relevant text from the hotel website.\n",
    "Word count for room  intro:  ~ 100 words\n",
    "An easy-reference section that displays  the top-level details on the room choices of the hotel. It shouldn’t  drill into too much detail, to save  the information becoming out of date, but aim to provide the most important features. Confirm the following room  facilities/amenities: en suite bathroom (but not bath v shower); air conditioning; Wi-Fi. \n",
    "\"{text}\"\n",
    "Helpful answer:\"\"\"\n",
    "prompt = PromptTemplate.from_template(prompt_template)\n",
    "\n",
    "# Define LLM chain\n",
    "llm = ChatOpenAI(temperature=0, model_name=\"gpt-3.5-turbo-16k\")\n",
    "llm_chain = LLMChain(llm=llm, prompt=prompt)\n",
    "\n",
    "# Define StuffDocumentsChain\n",
    "stuff_chain = StuffDocumentsChain(llm_chain=llm_chain, document_variable_name=\"text\")\n",
    "\n",
    "print(stuff_chain.run(docs))"
   ]
  },
  {
   "cell_type": "code",
   "execution_count": null,
   "id": "d3e74f42-5c4c-429c-a4a0-9cec4d13d919",
   "metadata": {},
   "outputs": [],
   "source": [
    "# 6. Food & drink"
   ]
  },
  {
   "cell_type": "code",
   "execution_count": null,
   "id": "5e19957e-3e4d-4a3e-8216-6194f4905fdf",
   "metadata": {},
   "outputs": [],
   "source": [
    "food_drink = \"Food & drink - An easy-reference bullet section that lists the top-level eating and drinking options in the hotel. It shouldn’t drill into too much detail, to save the information becoming out of date, but aim to provide the most important features. A starting set of bullet points, which you can adapt and add to, is in the hotel writing template, which you should use alongside this guidance.\"\n",
    "docs = retriever.get_relevant_documents(food_drink)\n",
    "\n",
    "# Define prompt\n",
    "prompt_template = \"\"\" Write a summary of a hotels Food & drink options using the following guidelines and relevant text from the hotel website.\n",
    "Word count for eating & drinking: ~ 60 words\n",
    "An easy-reference bullet section that lists the top-level eating and drinking options in the hotel. It shouldn’t drill into too much detail, to save the information becoming out of date, but aim to provide the most important features. A starting set of bullet points, which you can adapt and add to, is in the hotel writing template, which you should use alongside this guidance.\n",
    "\"{text}\"\n",
    "Helpful answer:\"\"\"\n",
    "prompt = PromptTemplate.from_template(prompt_template)\n",
    "\n",
    "# Define LLM chain\n",
    "llm = ChatOpenAI(temperature=0, model_name=\"gpt-3.5-turbo-16k\")\n",
    "llm_chain = LLMChain(llm=llm, prompt=prompt)\n",
    "\n",
    "# Define StuffDocumentsChain\n",
    "stuff_chain = StuffDocumentsChain(llm_chain=llm_chain, document_variable_name=\"text\")\n",
    "\n",
    "print(stuff_chain.run(texts))"
   ]
  },
  {
   "cell_type": "code",
   "execution_count": null,
   "id": "4f6bff87-fb8f-4a58-9684-b8691965927f",
   "metadata": {},
   "outputs": [],
   "source": [
    "# 7. Facilities and Activities"
   ]
  },
  {
   "cell_type": "code",
   "execution_count": null,
   "id": "23e7a358-1186-491c-a994-d0d8252905e4",
   "metadata": {},
   "outputs": [],
   "source": [
    "from langchain.chains.combine_documents.stuff import StuffDocumentsChain\n",
    "from langchain.chains.llm import LLMChain\n",
    "from langchain.prompts import PromptTemplate\n",
    "from langchain_openai import ChatOpenAI\n",
    "\n",
    "Facilities_activities = \"Facilities and Activities - An easy-reference bullet section that lists the key facilities the hotel offers, such as swimming pool/s, laundry, spa, and so on. Also include any unusual or bespoke features, such as the hot springs at Colca Lodge in Peru . Starting suggestions for the bullets are in the hotel writing template , which you should use alongside this guidance.\"\n",
    "docs = retriever.get_relevant_documents(Facilities_activities)\n",
    "\n",
    "# Define prompt\n",
    "prompt_template = \"\"\" Write a summary of a hotels Facilities and Activities options using the following guidelines and relevant text from the hotel website.\n",
    "Word count for facilities: ~ 60 words\n",
    "An easy-reference bullet section that lists the key facilities the hotel offers, such as swimming pool/s, laundry, spa, and so on. Also include any unusual or bespoke features, such as the hot springs at Colca Lodge in Peru . Starting suggestions for the bullets are in the hotel writing template , which you should use alongside this guidance.\n",
    "\"{text}\"\n",
    "Helpful answer:\"\"\"\n",
    "prompt = PromptTemplate.from_template(prompt_template)\n",
    "\n",
    "# Define LLM chain\n",
    "llm = ChatOpenAI(temperature=0, model_name=\"gpt-3.5-turbo-16k\")\n",
    "llm_chain = LLMChain(llm=llm, prompt=prompt)\n",
    "\n",
    "# Define StuffDocumentsChain\n",
    "stuff_chain = StuffDocumentsChain(llm_chain=llm_chain, document_variable_name=\"text\")\n",
    "\n",
    "print(stuff_chain.run(texts))"
   ]
  },
  {
   "cell_type": "code",
   "execution_count": null,
   "id": "b0328a68-a70f-4284-b227-ce9eecd0acda",
   "metadata": {},
   "outputs": [],
   "source": []
  },
  {
   "cell_type": "code",
   "execution_count": null,
   "id": "4a9bbc60-5eae-41f0-a7ea-d0129570389c",
   "metadata": {},
   "outputs": [],
   "source": []
  },
  {
   "cell_type": "code",
   "execution_count": null,
   "id": "5542dcd7-bfef-43f3-851f-14d5548a6dc0",
   "metadata": {},
   "outputs": [],
   "source": []
  }
 ],
 "metadata": {
  "kernelspec": {
   "display_name": "Python 3 (ipykernel)",
   "language": "python",
   "name": "python3"
  },
  "language_info": {
   "codemirror_mode": {
    "name": "ipython",
    "version": 3
   },
   "file_extension": ".py",
   "mimetype": "text/x-python",
   "name": "python",
   "nbconvert_exporter": "python",
   "pygments_lexer": "ipython3",
   "version": "3.10.6"
  }
 },
 "nbformat": 4,
 "nbformat_minor": 5
}
